{
 "cells": [
  {
   "cell_type": "markdown",
   "metadata": {},
   "source": [
    "# <font color='#045FB4'>Cálculo do IMC - Índice de Massa Corporal</font>\n",
    "\n",
    "O IMC é calculado através da equação $ IMC = \\frac{peso}{altura^2} $.\n",
    "\n",
    "Após o cálculo do índice, podemos verificar a situação da pessoa através da tabela abaixo.\n",
    "\n",
    "|         IMC        |         Situação        |\n",
    "|:------------------:|:-----------------------:|\n",
    "| Abaixo de 20       | Abaixo do peso          |\n",
    "| Entre 20 e 24,99   | Peso normal             |\n",
    "| Acima de 25        | Acima do peso           |\n"
   ]
  },
  {
   "cell_type": "code",
   "metadata": {
    "collapsed": true,
    "ExecuteTime": {
     "end_time": "2024-07-09T03:08:42.812942Z",
     "start_time": "2024-07-09T03:08:38.610650Z"
    }
   },
   "source": [
    "peso = float(input(\"Digite seu peso: \"))\n",
    "altura = float(input(\"Digite sua altura: \"))\n",
    "imc = peso / altura ** 2\n",
    "if imc < 20:\n",
    "    print(\"Seu peso está abaixo do ideal. Seu IMC = {}.\".format(imc))\n",
    "else:\n",
    "    if 20 <= imc <= 25:\n",
    "        print(\"Seu peso está dentro da faixa ideal. Seu IMC = {}.\".format(imc))\n",
    "    else:\n",
    "        print(\"Seu peso está acima do ideal. Seu IMC = {}.\".format(imc))"
   ],
   "outputs": [
    {
     "name": "stdout",
     "output_type": "stream",
     "text": [
      "Seu peso está dentro da faixa ideal. Seu IMC = 23.510204081632654.\n"
     ]
    }
   ],
   "execution_count": 2
  },
  {
   "cell_type": "code",
   "execution_count": null,
   "metadata": {
    "collapsed": true
   },
   "outputs": [],
   "source": []
  }
 ],
 "metadata": {
  "kernelspec": {
   "display_name": "Python 3",
   "language": "python",
   "name": "python3"
  },
  "language_info": {
   "codemirror_mode": {
    "name": "ipython",
    "version": 3
   },
   "file_extension": ".py",
   "mimetype": "text/x-python",
   "name": "python",
   "nbconvert_exporter": "python",
   "pygments_lexer": "ipython3",
   "version": "3.6.3"
  }
 },
 "nbformat": 4,
 "nbformat_minor": 2
}
