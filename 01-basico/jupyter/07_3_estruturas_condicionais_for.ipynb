{
 "cells": [
  {
   "cell_type": "markdown",
   "metadata": {},
   "source": [
    "# Comando for - Iterando sobre sequências de dados (percorrendo iteráveis)"
   ]
  },
  {
   "cell_type": "markdown",
   "metadata": {},
   "source": [
    "### Iterando sobre uma lista"
   ]
  },
  {
   "cell_type": "code",
   "metadata": {
    "ExecuteTime": {
     "end_time": "2024-07-09T03:12:23.775236Z",
     "start_time": "2024-07-09T03:12:23.770972Z"
    }
   },
   "source": [
    "lista = [1, 19, 2, 15, 21, 12, 2]\n",
    "for num in lista:\n",
    "    print(num)"
   ],
   "outputs": [
    {
     "name": "stdout",
     "output_type": "stream",
     "text": [
      "1\n",
      "19\n",
      "2\n",
      "15\n",
      "21\n",
      "12\n",
      "2\n"
     ]
    }
   ],
   "execution_count": 1
  },
  {
   "cell_type": "code",
   "metadata": {
    "ExecuteTime": {
     "end_time": "2024-07-09T03:12:23.777956Z",
     "start_time": "2024-07-09T03:12:23.776241Z"
    }
   },
   "source": [
    "print(num)"
   ],
   "outputs": [
    {
     "name": "stdout",
     "output_type": "stream",
     "text": [
      "2\n"
     ]
    }
   ],
   "execution_count": 2
  },
  {
   "cell_type": "code",
   "metadata": {
    "ExecuteTime": {
     "end_time": "2024-07-09T03:12:23.781515Z",
     "start_time": "2024-07-09T03:12:23.779012Z"
    }
   },
   "source": [
    "# Verificando se um número é par ou ímpar\n",
    "for num in lista:\n",
    "    if num % 2 == 0:\n",
    "        print (\"{} é par.\".format(num))\n",
    "    else:\n",
    "        print(num,\"é ímpar.\")"
   ],
   "outputs": [
    {
     "name": "stdout",
     "output_type": "stream",
     "text": [
      "1 é ímpar.\n",
      "19 é ímpar.\n",
      "2 é par.\n",
      "15 é ímpar.\n",
      "21 é ímpar.\n",
      "12 é par.\n",
      "2 é par.\n"
     ]
    }
   ],
   "execution_count": 3
  },
  {
   "cell_type": "code",
   "metadata": {
    "ExecuteTime": {
     "end_time": "2024-07-09T03:12:23.784760Z",
     "start_time": "2024-07-09T03:12:23.782060Z"
    }
   },
   "source": [
    "# Contador [impares e pares]\n",
    "cont_impar = 0\n",
    "cont_par = 0\n",
    "for num in lista:\n",
    "    if num % 2 == 0:\n",
    "        cont_par += 1\n",
    "    else:\n",
    "        cont_impar += 1\n",
    "print(\"A lista contem {} números pares e {} números ímpares.\".format(cont_par, cont_impar))"
   ],
   "outputs": [
    {
     "name": "stdout",
     "output_type": "stream",
     "text": [
      "A lista contem 3 números pares e 4 números ímpares.\n"
     ]
    }
   ],
   "execution_count": 4
  },
  {
   "cell_type": "code",
   "metadata": {
    "ExecuteTime": {
     "end_time": "2024-07-09T03:12:23.789017Z",
     "start_time": "2024-07-09T03:12:23.786105Z"
    }
   },
   "source": [
    "# Somatório\n",
    "soma = 0\n",
    "for n in lista:\n",
    "    soma += n\n",
    "print(\"A soma dos elementos da lista = \", soma)"
   ],
   "outputs": [
    {
     "name": "stdout",
     "output_type": "stream",
     "text": [
      "A soma dos elementos da lista =  72\n"
     ]
    }
   ],
   "execution_count": 5
  },
  {
   "cell_type": "code",
   "metadata": {
    "ExecuteTime": {
     "end_time": "2024-07-09T03:12:23.791358Z",
     "start_time": "2024-07-09T03:12:23.789630Z"
    }
   },
   "source": [
    "# Há uma forma mais simples de calcular somatórios\n",
    "print(\"A soma dos elementos da lista = \", sum(lista))"
   ],
   "outputs": [
    {
     "name": "stdout",
     "output_type": "stream",
     "text": [
      "A soma dos elementos da lista =  72\n"
     ]
    }
   ],
   "execution_count": 6
  },
  {
   "cell_type": "code",
   "metadata": {
    "ExecuteTime": {
     "end_time": "2024-07-09T03:12:23.794336Z",
     "start_time": "2024-07-09T03:12:23.791927Z"
    }
   },
   "source": [
    "# Mas a função sum() não permite somar elementos específicos\n",
    "soma_impar = 0\n",
    "for n in lista:\n",
    "    if n % 2 == 1:\n",
    "        soma_impar = soma_impar + n # sompa_impar += n\n",
    "print(\"A soma dos elementos ímpares da lista = \", soma_impar)"
   ],
   "outputs": [
    {
     "name": "stdout",
     "output_type": "stream",
     "text": [
      "A soma dos elementos ímpares da lista =  56\n"
     ]
    }
   ],
   "execution_count": 7
  },
  {
   "cell_type": "markdown",
   "metadata": {},
   "source": [
    "### Iterando sobre uma faixa de valores gerada com a função range()"
   ]
  },
  {
   "cell_type": "code",
   "metadata": {
    "ExecuteTime": {
     "end_time": "2024-07-09T03:12:23.797556Z",
     "start_time": "2024-07-09T03:12:23.795564Z"
    }
   },
   "source": [
    "# Iterando sobre uma faixa de valores gerada com a função range()\n",
    "for i in range(5):\n",
    "    print(i)"
   ],
   "outputs": [
    {
     "name": "stdout",
     "output_type": "stream",
     "text": [
      "0\n",
      "1\n",
      "2\n",
      "3\n",
      "4\n"
     ]
    }
   ],
   "execution_count": 8
  },
  {
   "cell_type": "code",
   "metadata": {
    "ExecuteTime": {
     "end_time": "2024-07-09T03:12:23.820234Z",
     "start_time": "2024-07-09T03:12:23.817564Z"
    }
   },
   "source": [
    "# Somatório dos múltiplos de 3 entre 1 e 100\n",
    "soma_mult_3 = 0\n",
    "for x in range(3, 100, 3):\n",
    "    soma_mult_3 += x\n",
    "print(soma_mult_3)"
   ],
   "outputs": [
    {
     "name": "stdout",
     "output_type": "stream",
     "text": [
      "1683\n"
     ]
    }
   ],
   "execution_count": 9
  },
  {
   "cell_type": "code",
   "metadata": {
    "ExecuteTime": {
     "end_time": "2024-07-09T03:12:27.132248Z",
     "start_time": "2024-07-09T03:12:23.830504Z"
    }
   },
   "source": [
    "# Imprimindo a taboada de um número qualquer\n",
    "num = int(input(\"Digite o número que deseja imprimir a taboada: \"))\n",
    "for mult in range(1,11):\n",
    "    print(\"{} x {} = {}\".format(num, mult, num*mult))"
   ],
   "outputs": [
    {
     "name": "stdout",
     "output_type": "stream",
     "text": [
      "10 x 1 = 10\n",
      "10 x 2 = 20\n",
      "10 x 3 = 30\n",
      "10 x 4 = 40\n",
      "10 x 5 = 50\n",
      "10 x 6 = 60\n",
      "10 x 7 = 70\n",
      "10 x 8 = 80\n",
      "10 x 9 = 90\n",
      "10 x 10 = 100\n"
     ]
    }
   ],
   "execution_count": 10
  },
  {
   "cell_type": "code",
   "metadata": {
    "ExecuteTime": {
     "end_time": "2024-07-09T03:12:27.139764Z",
     "start_time": "2024-07-09T03:12:27.134711Z"
    }
   },
   "source": [
    "# Imprimindo a taboada de 1 a 9\n",
    "for num in range(1,10):\n",
    "    for mult in range(1,11):\n",
    "        print(\"{} x {} = {}\".format(num, mult, num*mult))\n",
    "    print()"
   ],
   "outputs": [
    {
     "name": "stdout",
     "output_type": "stream",
     "text": [
      "1 x 1 = 1\n",
      "1 x 2 = 2\n",
      "1 x 3 = 3\n",
      "1 x 4 = 4\n",
      "1 x 5 = 5\n",
      "1 x 6 = 6\n",
      "1 x 7 = 7\n",
      "1 x 8 = 8\n",
      "1 x 9 = 9\n",
      "1 x 10 = 10\n",
      "\n",
      "2 x 1 = 2\n",
      "2 x 2 = 4\n",
      "2 x 3 = 6\n",
      "2 x 4 = 8\n",
      "2 x 5 = 10\n",
      "2 x 6 = 12\n",
      "2 x 7 = 14\n",
      "2 x 8 = 16\n",
      "2 x 9 = 18\n",
      "2 x 10 = 20\n",
      "\n",
      "3 x 1 = 3\n",
      "3 x 2 = 6\n",
      "3 x 3 = 9\n",
      "3 x 4 = 12\n",
      "3 x 5 = 15\n",
      "3 x 6 = 18\n",
      "3 x 7 = 21\n",
      "3 x 8 = 24\n",
      "3 x 9 = 27\n",
      "3 x 10 = 30\n",
      "\n",
      "4 x 1 = 4\n",
      "4 x 2 = 8\n",
      "4 x 3 = 12\n",
      "4 x 4 = 16\n",
      "4 x 5 = 20\n",
      "4 x 6 = 24\n",
      "4 x 7 = 28\n",
      "4 x 8 = 32\n",
      "4 x 9 = 36\n",
      "4 x 10 = 40\n",
      "\n",
      "5 x 1 = 5\n",
      "5 x 2 = 10\n",
      "5 x 3 = 15\n",
      "5 x 4 = 20\n",
      "5 x 5 = 25\n",
      "5 x 6 = 30\n",
      "5 x 7 = 35\n",
      "5 x 8 = 40\n",
      "5 x 9 = 45\n",
      "5 x 10 = 50\n",
      "\n",
      "6 x 1 = 6\n",
      "6 x 2 = 12\n",
      "6 x 3 = 18\n",
      "6 x 4 = 24\n",
      "6 x 5 = 30\n",
      "6 x 6 = 36\n",
      "6 x 7 = 42\n",
      "6 x 8 = 48\n",
      "6 x 9 = 54\n",
      "6 x 10 = 60\n",
      "\n",
      "7 x 1 = 7\n",
      "7 x 2 = 14\n",
      "7 x 3 = 21\n",
      "7 x 4 = 28\n",
      "7 x 5 = 35\n",
      "7 x 6 = 42\n",
      "7 x 7 = 49\n",
      "7 x 8 = 56\n",
      "7 x 9 = 63\n",
      "7 x 10 = 70\n",
      "\n",
      "8 x 1 = 8\n",
      "8 x 2 = 16\n",
      "8 x 3 = 24\n",
      "8 x 4 = 32\n",
      "8 x 5 = 40\n",
      "8 x 6 = 48\n",
      "8 x 7 = 56\n",
      "8 x 8 = 64\n",
      "8 x 9 = 72\n",
      "8 x 10 = 80\n",
      "\n",
      "9 x 1 = 9\n",
      "9 x 2 = 18\n",
      "9 x 3 = 27\n",
      "9 x 4 = 36\n",
      "9 x 5 = 45\n",
      "9 x 6 = 54\n",
      "9 x 7 = 63\n",
      "9 x 8 = 72\n",
      "9 x 9 = 81\n",
      "9 x 10 = 90\n",
      "\n"
     ]
    }
   ],
   "execution_count": 11
  },
  {
   "cell_type": "markdown",
   "metadata": {},
   "source": [
    "### Iterando sobre um string"
   ]
  },
  {
   "cell_type": "code",
   "metadata": {
    "ExecuteTime": {
     "end_time": "2024-07-09T03:12:27.160783Z",
     "start_time": "2024-07-09T03:12:27.157732Z"
    }
   },
   "source": [
    "maiorpalavra  = \"pneumoultramicroscopicossilicovulcanoconiótico\"\n",
    "for letra in maiorpalavra:\n",
    "    print(letra)"
   ],
   "outputs": [
    {
     "name": "stdout",
     "output_type": "stream",
     "text": [
      "p\n",
      "n\n",
      "e\n",
      "u\n",
      "m\n",
      "o\n",
      "u\n",
      "l\n",
      "t\n",
      "r\n",
      "a\n",
      "m\n",
      "i\n",
      "c\n",
      "r\n",
      "o\n",
      "s\n",
      "c\n",
      "o\n",
      "p\n",
      "i\n",
      "c\n",
      "o\n",
      "s\n",
      "s\n",
      "i\n",
      "l\n",
      "i\n",
      "c\n",
      "o\n",
      "v\n",
      "u\n",
      "l\n",
      "c\n",
      "a\n",
      "n\n",
      "o\n",
      "c\n",
      "o\n",
      "n\n",
      "i\n",
      "ó\n",
      "t\n",
      "i\n",
      "c\n",
      "o\n"
     ]
    }
   ],
   "execution_count": 12
  },
  {
   "cell_type": "markdown",
   "metadata": {},
   "source": [
    "### Iterando sobre uma tupla"
   ]
  },
  {
   "cell_type": "code",
   "metadata": {
    "ExecuteTime": {
     "end_time": "2024-07-09T03:12:27.179982Z",
     "start_time": "2024-07-09T03:12:27.177732Z"
    }
   },
   "source": [
    "tupla = (1, 19, 5, 12, 6)\n",
    "for ele in tupla:\n",
    "    print(ele)"
   ],
   "outputs": [
    {
     "name": "stdout",
     "output_type": "stream",
     "text": [
      "1\n",
      "19\n",
      "5\n",
      "12\n",
      "6\n"
     ]
    }
   ],
   "execution_count": 13
  },
  {
   "cell_type": "code",
   "metadata": {
    "ExecuteTime": {
     "end_time": "2024-07-09T03:12:27.192611Z",
     "start_time": "2024-07-09T03:12:27.189908Z"
    }
   },
   "source": [
    "lista_tupla = [(1, 2, 3), (4, 5, 6), (7, 8, 9)]\n",
    "(t1, t2, t3) = lista_tupla[1] # desmembrando a tupla\n",
    "print(type(lista_tupla))\n",
    "print(type(lista_tupla[1]))\n",
    "print(type(t1))"
   ],
   "outputs": [
    {
     "name": "stdout",
     "output_type": "stream",
     "text": [
      "<class 'list'>\n",
      "<class 'tuple'>\n",
      "<class 'int'>\n"
     ]
    }
   ],
   "execution_count": 14
  },
  {
   "cell_type": "code",
   "metadata": {
    "ExecuteTime": {
     "end_time": "2024-07-09T03:12:27.199900Z",
     "start_time": "2024-07-09T03:12:27.196006Z"
    }
   },
   "source": [
    "lista_tupla"
   ],
   "outputs": [
    {
     "data": {
      "text/plain": [
       "[(1, 2, 3), (4, 5, 6), (7, 8, 9)]"
      ]
     },
     "execution_count": 15,
     "metadata": {},
     "output_type": "execute_result"
    }
   ],
   "execution_count": 15
  },
  {
   "cell_type": "code",
   "metadata": {
    "ExecuteTime": {
     "end_time": "2024-07-09T03:12:27.221220Z",
     "start_time": "2024-07-09T03:12:27.218802Z"
    }
   },
   "source": [
    "lista_tupla[1]"
   ],
   "outputs": [
    {
     "data": {
      "text/plain": [
       "(4, 5, 6)"
      ]
     },
     "execution_count": 16,
     "metadata": {},
     "output_type": "execute_result"
    }
   ],
   "execution_count": 16
  },
  {
   "cell_type": "code",
   "metadata": {
    "ExecuteTime": {
     "end_time": "2024-07-09T03:12:27.246965Z",
     "start_time": "2024-07-09T03:12:27.244598Z"
    }
   },
   "source": [
    "t1"
   ],
   "outputs": [
    {
     "data": {
      "text/plain": [
       "4"
      ]
     },
     "execution_count": 17,
     "metadata": {},
     "output_type": "execute_result"
    }
   ],
   "execution_count": 17
  },
  {
   "cell_type": "code",
   "metadata": {
    "ExecuteTime": {
     "end_time": "2024-07-09T03:12:27.258834Z",
     "start_time": "2024-07-09T03:12:27.256068Z"
    }
   },
   "source": [
    "t2"
   ],
   "outputs": [
    {
     "data": {
      "text/plain": [
       "5"
      ]
     },
     "execution_count": 18,
     "metadata": {},
     "output_type": "execute_result"
    }
   ],
   "execution_count": 18
  },
  {
   "cell_type": "code",
   "metadata": {
    "ExecuteTime": {
     "end_time": "2024-07-09T03:12:27.261779Z",
     "start_time": "2024-07-09T03:12:27.259779Z"
    }
   },
   "source": [
    "t3"
   ],
   "outputs": [
    {
     "data": {
      "text/plain": [
       "6"
      ]
     },
     "execution_count": 19,
     "metadata": {},
     "output_type": "execute_result"
    }
   ],
   "execution_count": 19
  },
  {
   "cell_type": "code",
   "metadata": {
    "ExecuteTime": {
     "end_time": "2024-07-09T03:12:27.268585Z",
     "start_time": "2024-07-09T03:12:27.266508Z"
    }
   },
   "source": [
    "lista_tupla_notas = [(18, 20, 15, 22), (10, 15, 25, 19), (16, 24, 21, 20), (10, 13, 18, 13)]\n",
    "for (ele1, ele2, ele3, ele4) in lista_tupla_notas:\n",
    "    print(\"A 3a nota = {}.\".format(ele3))"
   ],
   "outputs": [
    {
     "name": "stdout",
     "output_type": "stream",
     "text": [
      "A 3a nota = 15.\n",
      "A 3a nota = 25.\n",
      "A 3a nota = 21.\n",
      "A 3a nota = 18.\n"
     ]
    }
   ],
   "execution_count": 20
  },
  {
   "cell_type": "markdown",
   "metadata": {},
   "source": [
    "### Iterando em um conjunto"
   ]
  },
  {
   "cell_type": "code",
   "metadata": {
    "ExecuteTime": {
     "end_time": "2024-07-09T03:12:27.274456Z",
     "start_time": "2024-07-09T03:12:27.272731Z"
    }
   },
   "source": [
    "conj1 = {1, 5, 2, 6, 3, 4}\n",
    "\n",
    "for ele in conj1:\n",
    "    print(ele)"
   ],
   "outputs": [
    {
     "name": "stdout",
     "output_type": "stream",
     "text": [
      "1\n",
      "2\n",
      "3\n",
      "4\n",
      "5\n",
      "6\n"
     ]
    }
   ],
   "execution_count": 21
  },
  {
   "cell_type": "code",
   "metadata": {
    "ExecuteTime": {
     "end_time": "2024-07-09T03:12:27.278936Z",
     "start_time": "2024-07-09T03:12:27.276949Z"
    }
   },
   "source": [
    "conj2 = {1, 17, 12, 4, 2, 20}\n",
    "\n",
    "for ele in conj1:\n",
    "    if ele in conj2:\n",
    "        print(\"O elemento {} está contido em conj2.\".format(ele))\n",
    "    else:\n",
    "        print(\"O elemento {} não está contido em conj2.\".format(ele))"
   ],
   "outputs": [
    {
     "name": "stdout",
     "output_type": "stream",
     "text": [
      "O elemento 1 está contido em conj2.\n",
      "O elemento 2 está contido em conj2.\n",
      "O elemento 3 não está contido em conj2.\n",
      "O elemento 4 está contido em conj2.\n",
      "O elemento 5 não está contido em conj2.\n",
      "O elemento 6 não está contido em conj2.\n"
     ]
    }
   ],
   "execution_count": 22
  },
  {
   "cell_type": "markdown",
   "metadata": {},
   "source": [
    "### Iterando em um dicionário"
   ]
  },
  {
   "cell_type": "code",
   "metadata": {
    "ExecuteTime": {
     "end_time": "2024-07-09T03:12:27.313845Z",
     "start_time": "2024-07-09T03:12:27.311717Z"
    }
   },
   "source": [
    "dic_estados = { \"MG\":\"Minas Gerais\", \"PR\": \"Paraná\", \"BA\": \"Bahia\", \"RN\": \"Rio Grande do Norte\", \"AM\": \"Amzonas\"}\n",
    "for est in dic_estados:\n",
    "    print(est)"
   ],
   "outputs": [
    {
     "name": "stdout",
     "output_type": "stream",
     "text": [
      "MG\n",
      "PR\n",
      "BA\n",
      "RN\n",
      "AM\n"
     ]
    }
   ],
   "execution_count": 23
  },
  {
   "cell_type": "code",
   "metadata": {
    "ExecuteTime": {
     "end_time": "2024-07-09T03:12:27.321979Z",
     "start_time": "2024-07-09T03:12:27.320321Z"
    }
   },
   "source": [
    "for est in dic_estados.values():\n",
    "    print(est)"
   ],
   "outputs": [
    {
     "name": "stdout",
     "output_type": "stream",
     "text": [
      "Minas Gerais\n",
      "Paraná\n",
      "Bahia\n",
      "Rio Grande do Norte\n",
      "Amzonas\n"
     ]
    }
   ],
   "execution_count": 24
  },
  {
   "cell_type": "code",
   "metadata": {
    "ExecuteTime": {
     "end_time": "2024-07-09T03:12:27.325096Z",
     "start_time": "2024-07-09T03:12:27.323397Z"
    }
   },
   "source": [
    "for (sig,est) in dic_estados.items():\n",
    "    print(\"A sigla para {} é {}.\".format(est, sig))"
   ],
   "outputs": [
    {
     "name": "stdout",
     "output_type": "stream",
     "text": [
      "A sigla para Minas Gerais é MG.\n",
      "A sigla para Paraná é PR.\n",
      "A sigla para Bahia é BA.\n",
      "A sigla para Rio Grande do Norte é RN.\n",
      "A sigla para Amzonas é AM.\n"
     ]
    }
   ],
   "execution_count": 25
  },
  {
   "cell_type": "markdown",
   "metadata": {
    "collapsed": true
   },
   "source": [
    "### Comprehensions\n",
    "\n",
    "Uma maneira bastante concisa que o Python fornece para a criação de sequencias (listas, tuplas, dicionários, strings, etc).\n",
    "\n",
    "**Sintaxe:**\n",
    "\n",
    "```python\n",
    "listasaida = [expressão for var in listaentrada]\n",
    "\n",
    "listasaida = [expressão for var in listaentrada if condição]\n",
    "```\n",
    "\n",
    "**Exemplo:**\n",
    "\n",
    "Como criar uma lista com 20 elementos (1 a 20) no Python?"
   ]
  },
  {
   "cell_type": "code",
   "metadata": {
    "ExecuteTime": {
     "end_time": "2024-07-09T03:12:27.332377Z",
     "start_time": "2024-07-09T03:12:27.329957Z"
    }
   },
   "source": [
    "# 1a maneira - digitando todos os elementos\n",
    "lista = [1, 2, 3, 4, 5, 6, 7, 8, 9, 10, 11, 12, 13, 14, 15, 16, 17, 18, 19, 20]\n",
    "lista"
   ],
   "outputs": [
    {
     "data": {
      "text/plain": [
       "[1, 2, 3, 4, 5, 6, 7, 8, 9, 10, 11, 12, 13, 14, 15, 16, 17, 18, 19, 20]"
      ]
     },
     "execution_count": 26,
     "metadata": {},
     "output_type": "execute_result"
    }
   ],
   "execution_count": 26
  },
  {
   "cell_type": "code",
   "metadata": {
    "ExecuteTime": {
     "end_time": "2024-07-09T03:12:27.335579Z",
     "start_time": "2024-07-09T03:12:27.333461Z"
    }
   },
   "source": [
    "# 2a maneira - usando a função range\n",
    "lista1= list(range(1, 21))\n",
    "lista1"
   ],
   "outputs": [
    {
     "data": {
      "text/plain": [
       "[1, 2, 3, 4, 5, 6, 7, 8, 9, 10, 11, 12, 13, 14, 15, 16, 17, 18, 19, 20]"
      ]
     },
     "execution_count": 27,
     "metadata": {},
     "output_type": "execute_result"
    }
   ],
   "execution_count": 27
  },
  {
   "cell_type": "code",
   "metadata": {
    "ExecuteTime": {
     "end_time": "2024-07-09T03:12:27.356604Z",
     "start_time": "2024-07-09T03:12:27.353906Z"
    }
   },
   "source": [
    "# 3a maneira - usando o for\n",
    "lista3 = []\n",
    "for i in range(1, 21):\n",
    "    lista3.append(i)\n",
    "lista3"
   ],
   "outputs": [
    {
     "data": {
      "text/plain": [
       "[1, 2, 3, 4, 5, 6, 7, 8, 9, 10, 11, 12, 13, 14, 15, 16, 17, 18, 19, 20]"
      ]
     },
     "execution_count": 28,
     "metadata": {},
     "output_type": "execute_result"
    }
   ],
   "execution_count": 28
  },
  {
   "cell_type": "code",
   "metadata": {
    "ExecuteTime": {
     "end_time": "2024-07-09T03:12:27.366034Z",
     "start_time": "2024-07-09T03:12:27.362881Z"
    }
   },
   "source": [
    "# 4a maneira - usando comprehensions\n",
    "lista4 = [i for i in range(1,21)]\n",
    "lista4"
   ],
   "outputs": [
    {
     "data": {
      "text/plain": [
       "[1, 2, 3, 4, 5, 6, 7, 8, 9, 10, 11, 12, 13, 14, 15, 16, 17, 18, 19, 20]"
      ]
     },
     "execution_count": 29,
     "metadata": {},
     "output_type": "execute_result"
    }
   ],
   "execution_count": 29
  },
  {
   "cell_type": "code",
   "metadata": {
    "ExecuteTime": {
     "end_time": "2024-07-09T03:12:27.370268Z",
     "start_time": "2024-07-09T03:12:27.367241Z"
    }
   },
   "source": [
    "# Outro exemplo: criar uma lista de números pares entre 1 e 50\n",
    "pares = []\n",
    "for i in range(1, 51):\n",
    "    if i%2 == 0:\n",
    "        pares.append(i)\n",
    "pares"
   ],
   "outputs": [
    {
     "data": {
      "text/plain": [
       "[2,\n",
       " 4,\n",
       " 6,\n",
       " 8,\n",
       " 10,\n",
       " 12,\n",
       " 14,\n",
       " 16,\n",
       " 18,\n",
       " 20,\n",
       " 22,\n",
       " 24,\n",
       " 26,\n",
       " 28,\n",
       " 30,\n",
       " 32,\n",
       " 34,\n",
       " 36,\n",
       " 38,\n",
       " 40,\n",
       " 42,\n",
       " 44,\n",
       " 46,\n",
       " 48,\n",
       " 50]"
      ]
     },
     "execution_count": 30,
     "metadata": {},
     "output_type": "execute_result"
    }
   ],
   "execution_count": 30
  },
  {
   "cell_type": "code",
   "metadata": {
    "ExecuteTime": {
     "end_time": "2024-07-09T03:12:27.379489Z",
     "start_time": "2024-07-09T03:12:27.376595Z"
    }
   },
   "source": [
    "pares2 = [num for num in range (1,51) if num % 2 == 0]\n",
    "pares2"
   ],
   "outputs": [
    {
     "data": {
      "text/plain": [
       "[2,\n",
       " 4,\n",
       " 6,\n",
       " 8,\n",
       " 10,\n",
       " 12,\n",
       " 14,\n",
       " 16,\n",
       " 18,\n",
       " 20,\n",
       " 22,\n",
       " 24,\n",
       " 26,\n",
       " 28,\n",
       " 30,\n",
       " 32,\n",
       " 34,\n",
       " 36,\n",
       " 38,\n",
       " 40,\n",
       " 42,\n",
       " 44,\n",
       " 46,\n",
       " 48,\n",
       " 50]"
      ]
     },
     "execution_count": 31,
     "metadata": {},
     "output_type": "execute_result"
    }
   ],
   "execution_count": 31
  },
  {
   "cell_type": "code",
   "metadata": {
    "ExecuteTime": {
     "end_time": "2024-07-09T03:12:27.396080Z",
     "start_time": "2024-07-09T03:12:27.393215Z"
    }
   },
   "source": [
    "divisiveis3e7 = [num for num in range(1,100) if num % 3 == 0 and num % 7 == 0]\n",
    "divisiveis3e7"
   ],
   "outputs": [
    {
     "data": {
      "text/plain": [
       "[21, 42, 63, 84]"
      ]
     },
     "execution_count": 32,
     "metadata": {},
     "output_type": "execute_result"
    }
   ],
   "execution_count": 32
  },
  {
   "cell_type": "code",
   "metadata": {
    "ExecuteTime": {
     "end_time": "2024-07-09T03:12:27.404559Z",
     "start_time": "2024-07-09T03:12:27.401231Z"
    }
   },
   "source": [
    "letras = [l.upper() for l in \"palavra\"]\n",
    "letras"
   ],
   "outputs": [
    {
     "data": {
      "text/plain": [
       "['P', 'A', 'L', 'A', 'V', 'R', 'A']"
      ]
     },
     "execution_count": 33,
     "metadata": {},
     "output_type": "execute_result"
    }
   ],
   "execution_count": 33
  },
  {
   "cell_type": "code",
   "metadata": {
    "ExecuteTime": {
     "end_time": "2024-07-09T03:12:27.411020Z",
     "start_time": "2024-07-09T03:12:27.409396Z"
    }
   },
   "source": [],
   "outputs": [],
   "execution_count": 33
  }
 ],
 "metadata": {
  "kernelspec": {
   "display_name": "Python 3",
   "language": "python",
   "name": "python3"
  },
  "language_info": {
   "codemirror_mode": {
    "name": "ipython",
    "version": 3
   },
   "file_extension": ".py",
   "mimetype": "text/x-python",
   "name": "python",
   "nbconvert_exporter": "python",
   "pygments_lexer": "ipython3",
   "version": "3.7.3"
  }
 },
 "nbformat": 4,
 "nbformat_minor": 2
}
