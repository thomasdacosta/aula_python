{
 "cells": [
  {
   "cell_type": "markdown",
   "metadata": {},
   "source": [
    "# Conjuntos\n",
    "\n",
    "* Conjuntos são coleções de elementos únicos\n",
    "* Principais características:\n",
    "   * Os elementos não são armazenados em uma ordem específica\n",
    "   * Conjuntos não contém elementos repetidos\n",
    "* Conjuntos não suportam indexação como as listas e tuplas\n",
    "\n",
    "O que veremos nessa aula:\n",
    "1. Como criar conjuntos\n",
    "2. Como acessar elementos de um conjunto\n",
    "3. Como modificar elementos de um conjunto\n",
    "4. Principais métodos de um objeto conjunto\n",
    "5. Funções aplicáveis a um conjunto\n",
    "6. Curiosidade (conversão de uma lista em um conjunto)"
   ]
  },
  {
   "cell_type": "markdown",
   "metadata": {},
   "source": [
    "### 1. Como criar conjuntos"
   ]
  },
  {
   "cell_type": "code",
   "metadata": {
    "ExecuteTime": {
     "end_time": "2024-07-08T00:48:19.322352Z",
     "start_time": "2024-07-08T00:48:19.320338Z"
    }
   },
   "source": [
    "# Criando conjuntos vazios\n",
    "conj_vazio1 = set() # Essa é a única forma de se criar um conjunto vazio\n",
    "conj_vazio2 = {} # As chaves são utilizadas para construir um dicionário vazio."
   ],
   "outputs": [],
   "execution_count": 41
  },
  {
   "cell_type": "code",
   "metadata": {
    "ExecuteTime": {
     "end_time": "2024-07-08T00:48:19.409938Z",
     "start_time": "2024-07-08T00:48:19.407255Z"
    }
   },
   "source": [
    "type(conj_vazio1)"
   ],
   "outputs": [
    {
     "data": {
      "text/plain": [
       "set"
      ]
     },
     "execution_count": 42,
     "metadata": {},
     "output_type": "execute_result"
    }
   ],
   "execution_count": 42
  },
  {
   "cell_type": "code",
   "metadata": {
    "ExecuteTime": {
     "end_time": "2024-07-08T00:48:19.416697Z",
     "start_time": "2024-07-08T00:48:19.414229Z"
    }
   },
   "source": [
    "type(conj_vazio2)"
   ],
   "outputs": [
    {
     "data": {
      "text/plain": [
       "dict"
      ]
     },
     "execution_count": 43,
     "metadata": {},
     "output_type": "execute_result"
    }
   ],
   "execution_count": 43
  },
  {
   "cell_type": "code",
   "metadata": {
    "ExecuteTime": {
     "end_time": "2024-07-08T00:48:19.420172Z",
     "start_time": "2024-07-08T00:48:19.418435Z"
    }
   },
   "source": [
    "# Criando conjuntos com elementos\n",
    "conj1 = {1, 2, 3, 4, 5}\n",
    "conj2 = {\"A\", \"B\", \"C\", \"D\"}\n",
    "conj3 = {\"ABC\", 123, 3.14}"
   ],
   "outputs": [],
   "execution_count": 44
  },
  {
   "cell_type": "code",
   "metadata": {
    "ExecuteTime": {
     "end_time": "2024-07-08T00:48:19.434097Z",
     "start_time": "2024-07-08T00:48:19.425432Z"
    }
   },
   "source": [
    "# Conjuntos não podem conter outras estruturas aninhadas\n",
    "conj3 = {1, \"ABC\", [1,2,3]} # Provoca um erro por causa da lista"
   ],
   "outputs": [
    {
     "ename": "TypeError",
     "evalue": "unhashable type: 'list'",
     "output_type": "error",
     "traceback": [
      "\u001B[0;31m---------------------------------------------------------------------------\u001B[0m",
      "\u001B[0;31mTypeError\u001B[0m                                 Traceback (most recent call last)",
      "Cell \u001B[0;32mIn[45], line 2\u001B[0m\n\u001B[1;32m      1\u001B[0m \u001B[38;5;66;03m# Conjuntos não podem conter outras estruturas aninhadas\u001B[39;00m\n\u001B[0;32m----> 2\u001B[0m conj3 \u001B[38;5;241m=\u001B[39m {\u001B[38;5;241m1\u001B[39m, \u001B[38;5;124m\"\u001B[39m\u001B[38;5;124mABC\u001B[39m\u001B[38;5;124m\"\u001B[39m, [\u001B[38;5;241m1\u001B[39m,\u001B[38;5;241m2\u001B[39m,\u001B[38;5;241m3\u001B[39m]} \u001B[38;5;66;03m# Provoca um erro por causa da lista\u001B[39;00m\n",
      "\u001B[0;31mTypeError\u001B[0m: unhashable type: 'list'"
     ]
    }
   ],
   "execution_count": 45
  },
  {
   "cell_type": "markdown",
   "metadata": {},
   "source": [
    "### 2. Como acessar elementos de um conjunto"
   ]
  },
  {
   "cell_type": "code",
   "metadata": {},
   "source": [
    "# Conjuntos não suportam indexação. Então vamos precisar do comando for para acessar os elementos de um conjunto\n",
    "for elem in conj1:\n",
    "    print(elem)"
   ],
   "outputs": [],
   "execution_count": null
  },
  {
   "cell_type": "code",
   "metadata": {
    "ExecuteTime": {
     "end_time": "2024-07-08T00:48:19.461500Z",
     "start_time": "2024-07-08T00:48:19.452957Z"
    }
   },
   "source": [
    "# Tentar acessar uma posição em um conjunto provoca um erro\n",
    "conj1[0]"
   ],
   "outputs": [
    {
     "ename": "TypeError",
     "evalue": "'set' object is not subscriptable",
     "output_type": "error",
     "traceback": [
      "\u001B[0;31m---------------------------------------------------------------------------\u001B[0m",
      "\u001B[0;31mTypeError\u001B[0m                                 Traceback (most recent call last)",
      "Cell \u001B[0;32mIn[46], line 2\u001B[0m\n\u001B[1;32m      1\u001B[0m \u001B[38;5;66;03m# Tentar acessar uma posição em um conjunto provoca um erro\u001B[39;00m\n\u001B[0;32m----> 2\u001B[0m \u001B[43mconj1\u001B[49m\u001B[43m[\u001B[49m\u001B[38;5;241;43m0\u001B[39;49m\u001B[43m]\u001B[49m\n",
      "\u001B[0;31mTypeError\u001B[0m: 'set' object is not subscriptable"
     ]
    }
   ],
   "execution_count": 46
  },
  {
   "cell_type": "markdown",
   "metadata": {},
   "source": [
    "### 3. Como modificar elementos de um conjunto"
   ]
  },
  {
   "cell_type": "code",
   "metadata": {
    "ExecuteTime": {
     "end_time": "2024-07-08T00:48:19.466759Z",
     "start_time": "2024-07-08T00:48:19.465322Z"
    }
   },
   "source": [
    "# Nâo existe uma maneira de modificar elementos em um conjunto. \n",
    "# O que pode ser feito é a exclusão de um elemento, seguida da inserção de outro elemento"
   ],
   "outputs": [],
   "execution_count": 47
  },
  {
   "cell_type": "markdown",
   "metadata": {},
   "source": [
    "### 4. Principais métodos de um objeto conjunto\n",
    "\n",
    "Método | Descrição | Exemplo\n",
    ":----- | :-------- | :------\n",
    "add | Adiciona um elemento ao conjunto | `conj1.add(5)`\n",
    "clear  | Apaga todos os elementos de um conjunto | `conj1.clear()`\n",
    "copy | Retorna uma cópia dos elementos de um conjunto | `conj_copia = conj1.copy()`\n",
    "difference | Retorna o conjunto de elementos de conj1 que não pertencem a conj2 | `conj1.difference(conj2)`\n",
    "intersection | Retorna o conjunto de elementos presentes tanto em conj1 quanto em conj2 | `conj1.intersection(conj2)`\n",
    "isdisjoint | Retorna True se conj1 e conj2 forem disjuntos (ou seja, não possuem elementos em comum) | `conj1.isdisjoint(conj2)`\n",
    "issubset | Retorna True se conj1 for um subconjunto de conj2 (conj1 está contido em conj2) | `conj1.issubset(conj2)`\n",
    "issuperset | Retorna True se conj1 for um superconjunto de conj2 (conj1 contém conj2) | `conj1.issuperset(conj2)`\n",
    "remove e discard| Removem um elemento do conjunto | `conj1.remove(5)` ou `conj1.discard(5)`\n",
    "symmetric_difference | Retorna o conjunto de elementos que não são comuns aos dois conjuntos (o contrário da interseção)| `conj1.symmetric_difference(conj2)`\n",
    "union | Retorna a união entre 2 conjuntos | `conj1.union(conj2)`"
   ]
  },
  {
   "cell_type": "markdown",
   "metadata": {
    "collapsed": true
   },
   "source": [
    "#### 4.1 - add()"
   ]
  },
  {
   "cell_type": "code",
   "metadata": {
    "ExecuteTime": {
     "end_time": "2024-07-08T00:48:19.534287Z",
     "start_time": "2024-07-08T00:48:19.531128Z"
    }
   },
   "source": [
    "# Visualizando os elementos de conj1\n",
    "conj1"
   ],
   "outputs": [
    {
     "data": {
      "text/plain": [
       "{1, 2, 3, 4, 5}"
      ]
     },
     "execution_count": 48,
     "metadata": {},
     "output_type": "execute_result"
    }
   ],
   "execution_count": 48
  },
  {
   "cell_type": "code",
   "metadata": {
    "ExecuteTime": {
     "end_time": "2024-07-08T00:48:19.616110Z",
     "start_time": "2024-07-08T00:48:19.612623Z"
    }
   },
   "source": [
    "# Adicionando o elemento 6\n",
    "conj1.add(6)\n",
    "conj1"
   ],
   "outputs": [
    {
     "data": {
      "text/plain": [
       "{1, 2, 3, 4, 5, 6}"
      ]
     },
     "execution_count": 49,
     "metadata": {},
     "output_type": "execute_result"
    }
   ],
   "execution_count": 49
  },
  {
   "cell_type": "markdown",
   "metadata": {},
   "source": [
    "#### 4.2 - clear()"
   ]
  },
  {
   "cell_type": "code",
   "metadata": {
    "ExecuteTime": {
     "end_time": "2024-07-08T00:48:19.645884Z",
     "start_time": "2024-07-08T00:48:19.642764Z"
    }
   },
   "source": [
    "# Visualizando os elementos de conj3\n",
    "conj3"
   ],
   "outputs": [
    {
     "data": {
      "text/plain": [
       "{123, 3.14, 'ABC'}"
      ]
     },
     "execution_count": 50,
     "metadata": {},
     "output_type": "execute_result"
    }
   ],
   "execution_count": 50
  },
  {
   "cell_type": "code",
   "metadata": {
    "ExecuteTime": {
     "end_time": "2024-07-08T00:48:19.677037Z",
     "start_time": "2024-07-08T00:48:19.673408Z"
    }
   },
   "source": [
    "conj3.clear()\n",
    "conj3"
   ],
   "outputs": [
    {
     "data": {
      "text/plain": [
       "set()"
      ]
     },
     "execution_count": 51,
     "metadata": {},
     "output_type": "execute_result"
    }
   ],
   "execution_count": 51
  },
  {
   "cell_type": "markdown",
   "metadata": {
    "collapsed": true
   },
   "source": [
    "#### 4.3 - copy()"
   ]
  },
  {
   "cell_type": "code",
   "metadata": {
    "ExecuteTime": {
     "end_time": "2024-07-08T00:48:19.696924Z",
     "start_time": "2024-07-08T00:48:19.693681Z"
    }
   },
   "source": [
    "conj3 = conj1.copy()\n",
    "conj3"
   ],
   "outputs": [
    {
     "data": {
      "text/plain": [
       "{1, 2, 3, 4, 5, 6}"
      ]
     },
     "execution_count": 52,
     "metadata": {},
     "output_type": "execute_result"
    }
   ],
   "execution_count": 52
  },
  {
   "cell_type": "markdown",
   "metadata": {},
   "source": [
    "#### 4.4 - difference()"
   ]
  },
  {
   "cell_type": "code",
   "metadata": {
    "ExecuteTime": {
     "end_time": "2024-07-08T00:48:19.709287Z",
     "start_time": "2024-07-08T00:48:19.706734Z"
    }
   },
   "source": [
    "# Criando os conjuntos s1 e s2\n",
    "s1 = {1,2,3,4,5}\n",
    "s2 = {4,5,6,7}"
   ],
   "outputs": [],
   "execution_count": 53
  },
  {
   "cell_type": "code",
   "metadata": {
    "ExecuteTime": {
     "end_time": "2024-07-08T00:48:19.734391Z",
     "start_time": "2024-07-08T00:48:19.731298Z"
    }
   },
   "source": [
    "# Atribui a s3 a diferença do conjunto s1 em relação a s2\n",
    "s3 = s1.difference(s2)\n",
    "s3"
   ],
   "outputs": [
    {
     "data": {
      "text/plain": [
       "{1, 2, 3}"
      ]
     },
     "execution_count": 54,
     "metadata": {},
     "output_type": "execute_result"
    }
   ],
   "execution_count": 54
  },
  {
   "cell_type": "markdown",
   "metadata": {},
   "source": [
    "#### 4.5 - intersection()"
   ]
  },
  {
   "cell_type": "code",
   "metadata": {
    "ExecuteTime": {
     "end_time": "2024-07-08T00:48:19.750896Z",
     "start_time": "2024-07-08T00:48:19.748001Z"
    }
   },
   "source": [
    "s4 = s1.intersection(s2)\n",
    "s4"
   ],
   "outputs": [
    {
     "data": {
      "text/plain": [
       "{4, 5}"
      ]
     },
     "execution_count": 55,
     "metadata": {},
     "output_type": "execute_result"
    }
   ],
   "execution_count": 55
  },
  {
   "cell_type": "markdown",
   "metadata": {
    "collapsed": true
   },
   "source": [
    "#### 4.6 - isdisjoint()"
   ]
  },
  {
   "cell_type": "code",
   "metadata": {
    "ExecuteTime": {
     "end_time": "2024-07-08T00:48:19.755601Z",
     "start_time": "2024-07-08T00:48:19.752987Z"
    }
   },
   "source": [
    "# Verificando se s1 e s2 são disjuntos\n",
    "s1.isdisjoint(s2)"
   ],
   "outputs": [
    {
     "data": {
      "text/plain": [
       "False"
      ]
     },
     "execution_count": 56,
     "metadata": {},
     "output_type": "execute_result"
    }
   ],
   "execution_count": 56
  },
  {
   "cell_type": "code",
   "metadata": {
    "ExecuteTime": {
     "end_time": "2024-07-08T00:48:19.774185Z",
     "start_time": "2024-07-08T00:48:19.771580Z"
    }
   },
   "source": [
    "# Verificando se s3 e s3 são disjuntos\n",
    "s3.isdisjoint(s4)"
   ],
   "outputs": [
    {
     "data": {
      "text/plain": [
       "True"
      ]
     },
     "execution_count": 57,
     "metadata": {},
     "output_type": "execute_result"
    }
   ],
   "execution_count": 57
  },
  {
   "cell_type": "markdown",
   "metadata": {
    "collapsed": true
   },
   "source": [
    "#### 4.7 - issubset()"
   ]
  },
  {
   "cell_type": "code",
   "metadata": {
    "ExecuteTime": {
     "end_time": "2024-07-08T00:48:19.785066Z",
     "start_time": "2024-07-08T00:48:19.782341Z"
    }
   },
   "source": [
    "# verificando se s1 é um subconjunto de s2\n",
    "s1.issubset(s2)"
   ],
   "outputs": [
    {
     "data": {
      "text/plain": [
       "False"
      ]
     },
     "execution_count": 58,
     "metadata": {},
     "output_type": "execute_result"
    }
   ],
   "execution_count": 58
  },
  {
   "cell_type": "code",
   "metadata": {
    "ExecuteTime": {
     "end_time": "2024-07-08T00:48:19.794276Z",
     "start_time": "2024-07-08T00:48:19.791764Z"
    }
   },
   "source": [
    "# verificando se s3 é um subconjunto de s1\n",
    "s3.issubset(s1)"
   ],
   "outputs": [
    {
     "data": {
      "text/plain": [
       "True"
      ]
     },
     "execution_count": 59,
     "metadata": {},
     "output_type": "execute_result"
    }
   ],
   "execution_count": 59
  },
  {
   "cell_type": "markdown",
   "metadata": {},
   "source": [
    "#### 4.8 - issuperset()"
   ]
  },
  {
   "cell_type": "code",
   "metadata": {
    "ExecuteTime": {
     "end_time": "2024-07-08T00:48:19.818467Z",
     "start_time": "2024-07-08T00:48:19.815571Z"
    }
   },
   "source": [
    "# verificando se s1 é um superconjunto de s2\n",
    "s1.issuperset(s2)"
   ],
   "outputs": [
    {
     "data": {
      "text/plain": [
       "False"
      ]
     },
     "execution_count": 60,
     "metadata": {},
     "output_type": "execute_result"
    }
   ],
   "execution_count": 60
  },
  {
   "cell_type": "code",
   "metadata": {
    "ExecuteTime": {
     "end_time": "2024-07-08T00:48:19.826415Z",
     "start_time": "2024-07-08T00:48:19.823991Z"
    }
   },
   "source": [
    "# verificando se s1 é um superconjunto de s3\n",
    "s1.issuperset(s3)"
   ],
   "outputs": [
    {
     "data": {
      "text/plain": [
       "True"
      ]
     },
     "execution_count": 61,
     "metadata": {},
     "output_type": "execute_result"
    }
   ],
   "execution_count": 61
  },
  {
   "cell_type": "markdown",
   "metadata": {},
   "source": [
    "#### 4.9 - remove() e discard()"
   ]
  },
  {
   "cell_type": "code",
   "metadata": {
    "ExecuteTime": {
     "end_time": "2024-07-08T00:48:19.831523Z",
     "start_time": "2024-07-08T00:48:19.829054Z"
    }
   },
   "source": [
    "# Visualizando os elementos de conj1\n",
    "conj1"
   ],
   "outputs": [
    {
     "data": {
      "text/plain": [
       "{1, 2, 3, 4, 5, 6}"
      ]
     },
     "execution_count": 62,
     "metadata": {},
     "output_type": "execute_result"
    }
   ],
   "execution_count": 62
  },
  {
   "cell_type": "code",
   "metadata": {
    "ExecuteTime": {
     "end_time": "2024-07-08T00:48:19.844103Z",
     "start_time": "2024-07-08T00:48:19.841468Z"
    }
   },
   "source": [
    "# Removendo o 3 de conj1 usando o remove()\n",
    "conj1.remove(3)"
   ],
   "outputs": [],
   "execution_count": 63
  },
  {
   "cell_type": "code",
   "metadata": {
    "ExecuteTime": {
     "end_time": "2024-07-08T00:48:19.865403Z",
     "start_time": "2024-07-08T00:48:19.863113Z"
    }
   },
   "source": [
    "# Visualizando os elementos de conj1 após remove(3)\n",
    "conj1"
   ],
   "outputs": [
    {
     "data": {
      "text/plain": [
       "{1, 2, 4, 5, 6}"
      ]
     },
     "execution_count": 64,
     "metadata": {},
     "output_type": "execute_result"
    }
   ],
   "execution_count": 64
  },
  {
   "cell_type": "code",
   "metadata": {
    "ExecuteTime": {
     "end_time": "2024-07-08T00:48:19.881035Z",
     "start_time": "2024-07-08T00:48:19.872988Z"
    }
   },
   "source": [
    "# Tentar remover um elemento inexistente com remove provoca um erro\n",
    "conj1.remove(7)"
   ],
   "outputs": [
    {
     "ename": "KeyError",
     "evalue": "7",
     "output_type": "error",
     "traceback": [
      "\u001B[0;31m---------------------------------------------------------------------------\u001B[0m",
      "\u001B[0;31mKeyError\u001B[0m                                  Traceback (most recent call last)",
      "Cell \u001B[0;32mIn[65], line 2\u001B[0m\n\u001B[1;32m      1\u001B[0m \u001B[38;5;66;03m# Tentar remover um elemento inexistente com remove provoca um erro\u001B[39;00m\n\u001B[0;32m----> 2\u001B[0m \u001B[43mconj1\u001B[49m\u001B[38;5;241;43m.\u001B[39;49m\u001B[43mremove\u001B[49m\u001B[43m(\u001B[49m\u001B[38;5;241;43m7\u001B[39;49m\u001B[43m)\u001B[49m\n",
      "\u001B[0;31mKeyError\u001B[0m: 7"
     ]
    }
   ],
   "execution_count": 65
  },
  {
   "cell_type": "code",
   "metadata": {
    "ExecuteTime": {
     "end_time": "2024-07-08T00:48:19.881688Z",
     "start_time": "2024-07-08T00:48:19.881630Z"
    }
   },
   "source": [
    "# Removendo o 6 de conj1 usando o discard()\n",
    "conj1.discard(6)"
   ],
   "outputs": [],
   "execution_count": null
  },
  {
   "cell_type": "code",
   "metadata": {
    "ExecuteTime": {
     "end_time": "2024-07-08T00:48:19.886237Z",
     "start_time": "2024-07-08T00:48:19.884177Z"
    }
   },
   "source": [
    "# Visualizando os elementos de conj1 após discard(6)\n",
    "conj1"
   ],
   "outputs": [
    {
     "data": {
      "text/plain": [
       "{1, 2, 4, 5, 6}"
      ]
     },
     "execution_count": 66,
     "metadata": {},
     "output_type": "execute_result"
    }
   ],
   "execution_count": 66
  },
  {
   "cell_type": "code",
   "metadata": {
    "ExecuteTime": {
     "end_time": "2024-07-08T00:48:19.910263Z",
     "start_time": "2024-07-08T00:48:19.908463Z"
    }
   },
   "source": [
    "# Tentar remover um elemento inexistente com discard NÃO provoca um erro\n",
    "conj1.discard(7)"
   ],
   "outputs": [],
   "execution_count": 67
  },
  {
   "cell_type": "markdown",
   "metadata": {},
   "source": [
    "#### 4.10 - symmetric_difference()"
   ]
  },
  {
   "cell_type": "code",
   "metadata": {
    "ExecuteTime": {
     "end_time": "2024-07-08T00:48:19.924471Z",
     "start_time": "2024-07-08T00:48:19.921777Z"
    }
   },
   "source": [
    "# Na seção 4.5 foi realizada a interseção de s1 e s2. Agora vamos calcular a diferença simétrica\n",
    "s5 = s1.symmetric_difference(s2)\n",
    "s5"
   ],
   "outputs": [
    {
     "data": {
      "text/plain": [
       "{1, 2, 3, 6, 7}"
      ]
     },
     "execution_count": 68,
     "metadata": {},
     "output_type": "execute_result"
    }
   ],
   "execution_count": 68
  },
  {
   "cell_type": "markdown",
   "metadata": {},
   "source": [
    "#### 4.11 - union()"
   ]
  },
  {
   "cell_type": "code",
   "metadata": {
    "ExecuteTime": {
     "end_time": "2024-07-08T00:48:19.948052Z",
     "start_time": "2024-07-08T00:48:19.945110Z"
    }
   },
   "source": [
    "# Calculando o conjunto união. Veja que elementos repetidos só aparecem uma única vez no conjunto resultante\n",
    "s6 = s1.union(s2)\n",
    "s6"
   ],
   "outputs": [
    {
     "data": {
      "text/plain": [
       "{1, 2, 3, 4, 5, 6, 7}"
      ]
     },
     "execution_count": 69,
     "metadata": {},
     "output_type": "execute_result"
    }
   ],
   "execution_count": 69
  },
  {
   "cell_type": "markdown",
   "metadata": {},
   "source": [
    "### 5. Funções aplicáveis a um conjunto"
   ]
  },
  {
   "cell_type": "code",
   "metadata": {
    "ExecuteTime": {
     "end_time": "2024-07-08T00:48:19.953833Z",
     "start_time": "2024-07-08T00:48:19.949243Z"
    }
   },
   "source": [
    "len(s1)"
   ],
   "outputs": [
    {
     "data": {
      "text/plain": [
       "5"
      ]
     },
     "execution_count": 70,
     "metadata": {},
     "output_type": "execute_result"
    }
   ],
   "execution_count": 70
  },
  {
   "cell_type": "code",
   "metadata": {
    "ExecuteTime": {
     "end_time": "2024-07-08T00:48:19.962728Z",
     "start_time": "2024-07-08T00:48:19.960191Z"
    }
   },
   "source": [
    "max(s1)"
   ],
   "outputs": [
    {
     "data": {
      "text/plain": [
       "5"
      ]
     },
     "execution_count": 71,
     "metadata": {},
     "output_type": "execute_result"
    }
   ],
   "execution_count": 71
  },
  {
   "cell_type": "code",
   "metadata": {
    "ExecuteTime": {
     "end_time": "2024-07-08T00:48:19.971896Z",
     "start_time": "2024-07-08T00:48:19.969463Z"
    }
   },
   "source": [
    "min(s1)"
   ],
   "outputs": [
    {
     "data": {
      "text/plain": [
       "1"
      ]
     },
     "execution_count": 72,
     "metadata": {},
     "output_type": "execute_result"
    }
   ],
   "execution_count": 72
  },
  {
   "cell_type": "code",
   "metadata": {
    "ExecuteTime": {
     "end_time": "2024-07-08T00:48:20.002816Z",
     "start_time": "2024-07-08T00:48:19.999936Z"
    }
   },
   "source": [
    "sum(s1)"
   ],
   "outputs": [
    {
     "data": {
      "text/plain": [
       "15"
      ]
     },
     "execution_count": 73,
     "metadata": {},
     "output_type": "execute_result"
    }
   ],
   "execution_count": 73
  },
  {
   "cell_type": "markdown",
   "metadata": {},
   "source": [
    "### 6. Curiosidade (conversão de uma lista em um conjunto)"
   ]
  },
  {
   "cell_type": "code",
   "metadata": {
    "ExecuteTime": {
     "end_time": "2024-07-08T00:48:20.006968Z",
     "start_time": "2024-07-08T00:48:20.004619Z"
    }
   },
   "source": [
    "# O que acontece se convertermos uma lista que contém elementos repetidos em um conjunto?\n",
    "lista = [1, 2, 4, 3, 2, 1, 5, 2, 3, 1, 6, 3, 4, 2]"
   ],
   "outputs": [],
   "execution_count": 74
  },
  {
   "cell_type": "code",
   "metadata": {
    "ExecuteTime": {
     "end_time": "2024-07-08T00:48:20.014827Z",
     "start_time": "2024-07-08T00:48:20.012986Z"
    }
   },
   "source": [
    "# Convertendo a lista em um conjunto\n",
    "conj_lista = set(lista)"
   ],
   "outputs": [],
   "execution_count": 75
  },
  {
   "cell_type": "code",
   "metadata": {
    "ExecuteTime": {
     "end_time": "2024-07-08T00:48:20.019621Z",
     "start_time": "2024-07-08T00:48:20.017233Z"
    }
   },
   "source": [
    "# Ao visualizar o conjunto obtido através da conversão da lista, vemos que não existem mais elementos repetidos\n",
    "conj_lista"
   ],
   "outputs": [
    {
     "data": {
      "text/plain": [
       "{1, 2, 3, 4, 5, 6}"
      ]
     },
     "execution_count": 76,
     "metadata": {},
     "output_type": "execute_result"
    }
   ],
   "execution_count": 76
  }
 ],
 "metadata": {
  "kernelspec": {
   "display_name": "Python 3",
   "language": "python",
   "name": "python3"
  },
  "language_info": {
   "codemirror_mode": {
    "name": "ipython",
    "version": 3
   },
   "file_extension": ".py",
   "mimetype": "text/x-python",
   "name": "python",
   "nbconvert_exporter": "python",
   "pygments_lexer": "ipython3",
   "version": "3.7.3"
  }
 },
 "nbformat": 4,
 "nbformat_minor": 2
}
