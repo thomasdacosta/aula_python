{
 "cells": [
  {
   "cell_type": "markdown",
   "metadata": {},
   "source": [
    "# Funções\n",
    "\n",
    "```python\n",
    "def func(lista de parâmetros):\n",
    "    \"\"\"\n",
    "    Documentation String\n",
    "    \"\"\"\n",
    "    bloco de comandos\n",
    "    return # opcional\n",
    "```\n",
    "       \n"
   ]
  },
  {
   "cell_type": "code",
   "metadata": {
    "ExecuteTime": {
     "end_time": "2024-07-10T01:59:39.146208Z",
     "start_time": "2024-07-10T01:59:39.141047Z"
    }
   },
   "source": [
    "# Exemplo 1\n",
    "def func_01(a):\n",
    "    \"\"\"\n",
    "    Esse é o documentation string (docstring) da função func_01.\n",
    "    Essa função simplesmente imprime o valor do argumento passado por parâmetro.\n",
    "    \"\"\"\n",
    "    print(a)"
   ],
   "outputs": [],
   "execution_count": 1
  },
  {
   "cell_type": "code",
   "metadata": {
    "ExecuteTime": {
     "end_time": "2024-07-10T01:59:39.152231Z",
     "start_time": "2024-07-10T01:59:39.148814Z"
    }
   },
   "source": [
    "func_01(5)"
   ],
   "outputs": [
    {
     "name": "stdout",
     "output_type": "stream",
     "text": [
      "5\n"
     ]
    }
   ],
   "execution_count": 2
  },
  {
   "cell_type": "code",
   "metadata": {
    "ExecuteTime": {
     "end_time": "2024-07-10T01:59:39.162899Z",
     "start_time": "2024-07-10T01:59:39.160461Z"
    }
   },
   "source": [
    "func_01(\"Python\")"
   ],
   "outputs": [
    {
     "name": "stdout",
     "output_type": "stream",
     "text": [
      "Python\n"
     ]
    }
   ],
   "execution_count": 3
  },
  {
   "cell_type": "code",
   "metadata": {
    "ExecuteTime": {
     "end_time": "2024-07-10T01:59:39.167025Z",
     "start_time": "2024-07-10T01:59:39.164897Z"
    }
   },
   "source": [
    "func_01([1, 2, 3, 4])"
   ],
   "outputs": [
    {
     "name": "stdout",
     "output_type": "stream",
     "text": [
      "[1, 2, 3, 4]\n"
     ]
    }
   ],
   "execution_count": 4
  },
  {
   "cell_type": "code",
   "metadata": {
    "ExecuteTime": {
     "end_time": "2024-07-10T01:59:39.170906Z",
     "start_time": "2024-07-10T01:59:39.168896Z"
    }
   },
   "source": [
    "# Exemplo 2\n",
    "def inc(num):\n",
    "    \"\"\"\n",
    "    Exemplo de função com retorno de valor. Essa função recebe um parâmetro, então o incrementa e retorna.\n",
    "    \"\"\"\n",
    "    return num + 1"
   ],
   "outputs": [],
   "execution_count": 5
  },
  {
   "cell_type": "code",
   "metadata": {
    "ExecuteTime": {
     "end_time": "2024-07-10T01:59:39.196341Z",
     "start_time": "2024-07-10T01:59:39.191951Z"
    }
   },
   "source": [
    "a = inc(3)\n",
    "a"
   ],
   "outputs": [
    {
     "data": {
      "text/plain": [
       "4"
      ]
     },
     "execution_count": 6,
     "metadata": {},
     "output_type": "execute_result"
    }
   ],
   "execution_count": 6
  },
  {
   "cell_type": "code",
   "metadata": {
    "ExecuteTime": {
     "end_time": "2024-07-10T01:59:39.205687Z",
     "start_time": "2024-07-10T01:59:39.202983Z"
    }
   },
   "source": [
    "b = inc(99)\n",
    "b"
   ],
   "outputs": [
    {
     "data": {
      "text/plain": [
       "100"
      ]
     },
     "execution_count": 7,
     "metadata": {},
     "output_type": "execute_result"
    }
   ],
   "execution_count": 7
  },
  {
   "cell_type": "code",
   "metadata": {
    "ExecuteTime": {
     "end_time": "2024-07-10T01:59:39.210041Z",
     "start_time": "2024-07-10T01:59:39.207734Z"
    }
   },
   "source": [
    "# Exemplo 3\n",
    "def raiz(r, num):\n",
    "    \"\"\"\n",
    "    Calcula raízes através da operação de potência.\n",
    "    \"\"\"\n",
    "    return num ** (1/r)"
   ],
   "outputs": [],
   "execution_count": 8
  },
  {
   "cell_type": "code",
   "metadata": {
    "ExecuteTime": {
     "end_time": "2024-07-10T01:59:39.214703Z",
     "start_time": "2024-07-10T01:59:39.212009Z"
    }
   },
   "source": [
    "a = raiz(2, 16)\n",
    "a"
   ],
   "outputs": [
    {
     "data": {
      "text/plain": [
       "4.0"
      ]
     },
     "execution_count": 9,
     "metadata": {},
     "output_type": "execute_result"
    }
   ],
   "execution_count": 9
  },
  {
   "cell_type": "code",
   "metadata": {
    "ExecuteTime": {
     "end_time": "2024-07-10T01:59:39.232582Z",
     "start_time": "2024-07-10T01:59:39.228952Z"
    }
   },
   "source": [
    "b = raiz(3, 27)\n",
    "b"
   ],
   "outputs": [
    {
     "data": {
      "text/plain": [
       "3.0"
      ]
     },
     "execution_count": 10,
     "metadata": {},
     "output_type": "execute_result"
    }
   ],
   "execution_count": 10
  },
  {
   "cell_type": "code",
   "metadata": {
    "ExecuteTime": {
     "end_time": "2024-07-10T01:59:39.247889Z",
     "start_time": "2024-07-10T01:59:39.244685Z"
    }
   },
   "source": [
    "c = raiz(5, 243) # Argumentos posicionais\n",
    "c"
   ],
   "outputs": [
    {
     "data": {
      "text/plain": [
       "3.0"
      ]
     },
     "execution_count": 11,
     "metadata": {},
     "output_type": "execute_result"
    }
   ],
   "execution_count": 11
  },
  {
   "cell_type": "code",
   "metadata": {
    "ExecuteTime": {
     "end_time": "2024-07-10T01:59:39.256523Z",
     "start_time": "2024-07-10T01:59:39.253838Z"
    }
   },
   "source": [
    "d = raiz(num = 81, r = 2) # Argumentos nomeados\n",
    "d"
   ],
   "outputs": [
    {
     "data": {
      "text/plain": [
       "9.0"
      ]
     },
     "execution_count": 12,
     "metadata": {},
     "output_type": "execute_result"
    }
   ],
   "execution_count": 12
  },
  {
   "cell_type": "code",
   "metadata": {
    "ExecuteTime": {
     "end_time": "2024-07-10T01:59:39.259539Z",
     "start_time": "2024-07-10T01:59:39.257759Z"
    }
   },
   "source": [
    "# Exemplo 3 - parâmetros default\n",
    "def raiz(num, r = 2):\n",
    "    \"\"\"\n",
    "    Calcula raízes através da operação de potência.\n",
    "    \"\"\"\n",
    "    return num ** (1/r)"
   ],
   "outputs": [],
   "execution_count": 13
  },
  {
   "cell_type": "code",
   "metadata": {
    "ExecuteTime": {
     "end_time": "2024-07-10T01:59:39.263034Z",
     "start_time": "2024-07-10T01:59:39.260379Z"
    }
   },
   "source": [
    "a = raiz(16)\n",
    "a"
   ],
   "outputs": [
    {
     "data": {
      "text/plain": [
       "4.0"
      ]
     },
     "execution_count": 14,
     "metadata": {},
     "output_type": "execute_result"
    }
   ],
   "execution_count": 14
  },
  {
   "cell_type": "code",
   "metadata": {
    "ExecuteTime": {
     "end_time": "2024-07-10T01:59:39.268099Z",
     "start_time": "2024-07-10T01:59:39.265383Z"
    }
   },
   "source": [
    "b = raiz(32, 5)\n",
    "b"
   ],
   "outputs": [
    {
     "data": {
      "text/plain": [
       "2.0"
      ]
     },
     "execution_count": 15,
     "metadata": {},
     "output_type": "execute_result"
    }
   ],
   "execution_count": 15
  },
  {
   "cell_type": "code",
   "metadata": {
    "ExecuteTime": {
     "end_time": "2024-07-10T01:59:39.286278Z",
     "start_time": "2024-07-10T01:59:39.284098Z"
    }
   },
   "source": [
    "# Exemplo 04\n",
    "def soma(*nums):\n",
    "    \"\"\"\n",
    "    Exemplo de função usando parâmetros arbitrários\n",
    "    \"\"\"\n",
    "    print(type(nums))\n",
    "    soma = 0\n",
    "    for num in nums:\n",
    "        soma += num\n",
    "    return soma"
   ],
   "outputs": [],
   "execution_count": 16
  },
  {
   "cell_type": "code",
   "metadata": {
    "ExecuteTime": {
     "end_time": "2024-07-10T01:59:39.317288Z",
     "start_time": "2024-07-10T01:59:39.314117Z"
    }
   },
   "source": [
    "soma(2, 5, 4, 2, 8,7, 1, 0, 2)"
   ],
   "outputs": [
    {
     "name": "stdout",
     "output_type": "stream",
     "text": [
      "<class 'tuple'>\n"
     ]
    },
    {
     "data": {
      "text/plain": [
       "31"
      ]
     },
     "execution_count": 17,
     "metadata": {},
     "output_type": "execute_result"
    }
   ],
   "execution_count": 17
  },
  {
   "cell_type": "code",
   "metadata": {
    "ExecuteTime": {
     "end_time": "2024-07-10T01:59:39.339653Z",
     "start_time": "2024-07-10T01:59:39.337868Z"
    }
   },
   "source": [],
   "outputs": [],
   "execution_count": 17
  }
 ],
 "metadata": {
  "kernelspec": {
   "display_name": "Python 3",
   "language": "python",
   "name": "python3"
  },
  "language_info": {
   "codemirror_mode": {
    "name": "ipython",
    "version": 3
   },
   "file_extension": ".py",
   "mimetype": "text/x-python",
   "name": "python",
   "nbconvert_exporter": "python",
   "pygments_lexer": "ipython3",
   "version": "3.7.3"
  }
 },
 "nbformat": 4,
 "nbformat_minor": 2
}
