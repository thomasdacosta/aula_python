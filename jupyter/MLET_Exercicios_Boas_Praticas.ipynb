{
  "nbformat": 4,
  "nbformat_minor": 0,
  "metadata": {
    "colab": {
      "provenance": []
    },
    "kernelspec": {
      "name": "python3",
      "display_name": "Python 3"
    },
    "language_info": {
      "name": "python"
    }
  },
  "cells": [
    {
      "cell_type": "markdown",
      "source": [
        "Exercício 1: Manipulação de Dados com List Comprehensions\n",
        "Pergunta:\n",
        "Escreva uma função em Python que receba uma lista de números e retorne uma nova lista contendo o quadrado de cada número, mas apenas para os números ímpares. Utilize list comprehensions e boas práticas de codificação."
      ],
      "metadata": {
        "id": "S17mwyexKziy"
      }
    },
    {
      "cell_type": "code",
      "execution_count": null,
      "metadata": {
        "id": "SxQ7l2xDKnu-"
      },
      "outputs": [],
      "source": []
    },
    {
      "cell_type": "markdown",
      "source": [
        "Exercício 2: Uso de API com Requests\n",
        "Pergunta:\n",
        "Escreva uma função que consulte a API pública do JSONPlaceholder para obter informações sobre um usuário específico. A função deve receber o ID do usuário e retornar seu nome, username e email. Utilize a biblioteca requests e boas práticas de tratamento de erros."
      ],
      "metadata": {
        "id": "qZgbAm9sK00a"
      }
    },
    {
      "cell_type": "code",
      "source": [],
      "metadata": {
        "id": "MeytxaUXK28M"
      },
      "execution_count": null,
      "outputs": []
    },
    {
      "cell_type": "markdown",
      "source": [
        "Exercício 3: Ordenação de Dados com Funções Lambda\n",
        "Pergunta:\n",
        "Crie uma função que ordene uma lista de dicionários que representam livros, pelo título do livro em ordem alfabética. Utilize a função sorted e uma expressão lambda para especificar a chave de ordenação."
      ],
      "metadata": {
        "id": "D0g_g3rjK3D6"
      }
    },
    {
      "cell_type": "code",
      "source": [],
      "metadata": {
        "id": "fLsJNnP3K5iy"
      },
      "execution_count": null,
      "outputs": []
    }
  ]
}