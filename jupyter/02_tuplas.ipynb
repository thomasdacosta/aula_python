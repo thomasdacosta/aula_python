{
 "cells": [
  {
   "cell_type": "markdown",
   "metadata": {},
   "source": [
    "# Tuplas\n",
    "\n",
    "* Assim com uma lista, uma tupla também é uma coleção de elementos. A diferença entre elas, é que a tupla é imutável. Ou seja, uma vez definidos os seus elementos, a tupla não pode mais ser alterada\n",
    "* Cada elemento possui uma posição dentro de uma lista. Essa posição é chamada índice\n",
    "* O primeiro elemento fica armazenado na posição *0*, enquanto o último elemento fica armazenado na posição *n-1* (onde *n* é a quantidade de elementos da lista)\n",
    "\n",
    "O que veremos nessa aula:\n",
    "\n",
    "1. Como criar uma tupla\n",
    "2. Como acessar elementos de uma tupla\n",
    "3. A imutabilidade de uma tupla\n",
    "4. Principais métodos de um objeto tupla\n",
    "5. Funções aplicáveis a uma tupla\n",
    "6. Convertendo uma tupla em lista"
   ]
  },
  {
   "cell_type": "markdown",
   "metadata": {},
   "source": [
    "### 1. Como criar uma tupla"
   ]
  },
  {
   "cell_type": "code",
   "metadata": {
    "collapsed": true,
    "ExecuteTime": {
     "end_time": "2024-07-08T00:16:31.859101Z",
     "start_time": "2024-07-08T00:16:31.855041Z"
    }
   },
   "source": [
    "# Criando tuplas vazias\n",
    "tupla_vazia = ()\n",
    "tupla_vazia2 = tuple()"
   ],
   "outputs": [],
   "execution_count": 1
  },
  {
   "cell_type": "code",
   "metadata": {
    "collapsed": true,
    "ExecuteTime": {
     "end_time": "2024-07-08T00:16:35.017922Z",
     "start_time": "2024-07-08T00:16:35.011674Z"
    }
   },
   "source": [
    "# Verificando o tipo de tupla_vazia\n",
    "type(tupla_vazia)"
   ],
   "outputs": [
    {
     "data": {
      "text/plain": [
       "tuple"
      ]
     },
     "execution_count": 2,
     "metadata": {},
     "output_type": "execute_result"
    }
   ],
   "execution_count": 2
  },
  {
   "cell_type": "code",
   "metadata": {
    "collapsed": true,
    "ExecuteTime": {
     "end_time": "2024-07-08T00:16:38.594805Z",
     "start_time": "2024-07-08T00:16:38.591138Z"
    }
   },
   "source": [
    "# Verificando se tupla_vazia2 é uma instância de tuple\n",
    "isinstance(tupla_vazia2, tuple)"
   ],
   "outputs": [
    {
     "data": {
      "text/plain": [
       "True"
      ]
     },
     "execution_count": 3,
     "metadata": {},
     "output_type": "execute_result"
    }
   ],
   "execution_count": 3
  },
  {
   "cell_type": "code",
   "metadata": {
    "collapsed": true,
    "ExecuteTime": {
     "end_time": "2024-07-08T00:16:47.980443Z",
     "start_time": "2024-07-08T00:16:47.975957Z"
    }
   },
   "source": [
    "len(tupla_vazia)"
   ],
   "outputs": [
    {
     "data": {
      "text/plain": [
       "0"
      ]
     },
     "execution_count": 4,
     "metadata": {},
     "output_type": "execute_result"
    }
   ],
   "execution_count": 4
  },
  {
   "cell_type": "code",
   "metadata": {
    "collapsed": true,
    "ExecuteTime": {
     "end_time": "2024-07-08T00:16:50.585547Z",
     "start_time": "2024-07-08T00:16:50.582496Z"
    }
   },
   "source": [
    "# Criando tuplas com elementos\n",
    "tupla1 = (3, 19, 4, 21, 3, 5, 13)\n",
    "tupla2 = (3, 19, 4, 21, 3, 5, 13, \"tupla\", (1, 2, 3))\n",
    "tupla3 = (3, 19, 4, 21, 3, 5, 13, \"tupla\", [1, 2, 3])"
   ],
   "outputs": [],
   "execution_count": 5
  },
  {
   "cell_type": "code",
   "metadata": {
    "collapsed": true,
    "ExecuteTime": {
     "end_time": "2024-07-08T00:16:53.410806Z",
     "start_time": "2024-07-08T00:16:53.407089Z"
    }
   },
   "source": [
    "# Visualizando os elementos de tupla1\n",
    "tupla1"
   ],
   "outputs": [
    {
     "data": {
      "text/plain": [
       "(3, 19, 4, 21, 3, 5, 13)"
      ]
     },
     "execution_count": 6,
     "metadata": {},
     "output_type": "execute_result"
    }
   ],
   "execution_count": 6
  },
  {
   "cell_type": "code",
   "metadata": {
    "collapsed": true,
    "ExecuteTime": {
     "end_time": "2024-07-08T00:16:56.870322Z",
     "start_time": "2024-07-08T00:16:56.866928Z"
    }
   },
   "source": [
    "# Visualizando os elementos de tupla2\n",
    "tupla2"
   ],
   "outputs": [
    {
     "data": {
      "text/plain": [
       "(3, 19, 4, 21, 3, 5, 13, 'tupla', (1, 2, 3))"
      ]
     },
     "execution_count": 7,
     "metadata": {},
     "output_type": "execute_result"
    }
   ],
   "execution_count": 7
  },
  {
   "cell_type": "code",
   "metadata": {
    "collapsed": true,
    "ExecuteTime": {
     "end_time": "2024-07-08T00:16:58.910256Z",
     "start_time": "2024-07-08T00:16:58.904721Z"
    }
   },
   "source": [
    "# Visualizando os elementos de tupla3\n",
    "tupla3"
   ],
   "outputs": [
    {
     "data": {
      "text/plain": [
       "(3, 19, 4, 21, 3, 5, 13, 'tupla', [1, 2, 3])"
      ]
     },
     "execution_count": 8,
     "metadata": {},
     "output_type": "execute_result"
    }
   ],
   "execution_count": 8
  },
  {
   "cell_type": "markdown",
   "metadata": {},
   "source": [
    "### 2. Como acessar elementos de uma tupla"
   ]
  },
  {
   "cell_type": "code",
   "execution_count": null,
   "metadata": {
    "collapsed": true
   },
   "outputs": [],
   "source": [
    "# Acessando o índice 0 (primeira posição) de tupla1\n",
    "tupla1[0]"
   ]
  },
  {
   "cell_type": "code",
   "execution_count": null,
   "metadata": {
    "collapsed": true
   },
   "outputs": [],
   "source": [
    "# Visualizando os elementos de tupla1\n",
    "tupla1"
   ]
  },
  {
   "cell_type": "code",
   "execution_count": null,
   "metadata": {
    "collapsed": true
   },
   "outputs": [],
   "source": [
    "# Acessando o índice 5 (sexta posição) de tupla2\n",
    "tupla2[5]"
   ]
  },
  {
   "cell_type": "code",
   "execution_count": null,
   "metadata": {
    "collapsed": true
   },
   "outputs": [],
   "source": [
    "# Visualizando os elementos de tupla2\n",
    "tupla2"
   ]
  },
  {
   "cell_type": "code",
   "execution_count": null,
   "metadata": {
    "collapsed": true
   },
   "outputs": [],
   "source": [
    "# Acessando o índice 8 (nona posição) de tupla3\n",
    "tupla3[8]"
   ]
  },
  {
   "cell_type": "code",
   "execution_count": null,
   "metadata": {
    "collapsed": true
   },
   "outputs": [],
   "source": [
    "# Visualizando os elementos de tupla3\n",
    "tupla3"
   ]
  },
  {
   "cell_type": "code",
   "execution_count": null,
   "metadata": {
    "collapsed": true
   },
   "outputs": [],
   "source": [
    "# Tentando acesso a um índice inexistente\n",
    "tupla3[20]"
   ]
  },
  {
   "cell_type": "markdown",
   "metadata": {},
   "source": [
    "### 3. A imutabilidade de uma tupla"
   ]
  },
  {
   "cell_type": "code",
   "metadata": {
    "collapsed": true,
    "ExecuteTime": {
     "end_time": "2024-07-08T00:17:09.356639Z",
     "start_time": "2024-07-08T00:17:09.226717Z"
    }
   },
   "source": [
    "# Atribuindo o valor 5 ao índice 0 de tupla1 provocará um erro\n",
    "tupla1[0] = 5"
   ],
   "outputs": [
    {
     "ename": "TypeError",
     "evalue": "'tuple' object does not support item assignment",
     "output_type": "error",
     "traceback": [
      "\u001B[0;31m---------------------------------------------------------------------------\u001B[0m",
      "\u001B[0;31mTypeError\u001B[0m                                 Traceback (most recent call last)",
      "Cell \u001B[0;32mIn[9], line 2\u001B[0m\n\u001B[1;32m      1\u001B[0m \u001B[38;5;66;03m# Atribuindo o valor 5 ao índice 0 de tupla1 provocará um erro\u001B[39;00m\n\u001B[0;32m----> 2\u001B[0m \u001B[43mtupla1\u001B[49m\u001B[43m[\u001B[49m\u001B[38;5;241;43m0\u001B[39;49m\u001B[43m]\u001B[49m \u001B[38;5;241m=\u001B[39m \u001B[38;5;241m5\u001B[39m\n",
      "\u001B[0;31mTypeError\u001B[0m: 'tuple' object does not support item assignment"
     ]
    }
   ],
   "execution_count": 9
  },
  {
   "cell_type": "code",
   "metadata": {
    "collapsed": true,
    "ExecuteTime": {
     "end_time": "2024-07-08T00:17:14.000096Z",
     "start_time": "2024-07-08T00:17:13.985808Z"
    }
   },
   "source": [
    "# O mesmo ocorre se tentarmos atribuir o string \"imutável\" para o índice 1 de tupla2 \n",
    "tupla2[1] = \"imutável\""
   ],
   "outputs": [
    {
     "ename": "TypeError",
     "evalue": "'tuple' object does not support item assignment",
     "output_type": "error",
     "traceback": [
      "\u001B[0;31m---------------------------------------------------------------------------\u001B[0m",
      "\u001B[0;31mTypeError\u001B[0m                                 Traceback (most recent call last)",
      "Cell \u001B[0;32mIn[10], line 2\u001B[0m\n\u001B[1;32m      1\u001B[0m \u001B[38;5;66;03m# O mesmo ocorre se tentarmos atribuir o string \"imutável\" para o índice 1 de tupla2 \u001B[39;00m\n\u001B[0;32m----> 2\u001B[0m \u001B[43mtupla2\u001B[49m\u001B[43m[\u001B[49m\u001B[38;5;241;43m1\u001B[39;49m\u001B[43m]\u001B[49m \u001B[38;5;241m=\u001B[39m \u001B[38;5;124m\"\u001B[39m\u001B[38;5;124mimutável\u001B[39m\u001B[38;5;124m\"\u001B[39m\n",
      "\u001B[0;31mTypeError\u001B[0m: 'tuple' object does not support item assignment"
     ]
    }
   ],
   "execution_count": 10
  },
  {
   "cell_type": "code",
   "metadata": {
    "collapsed": true,
    "ExecuteTime": {
     "end_time": "2024-07-08T00:17:41.175820Z",
     "start_time": "2024-07-08T00:17:41.162878Z"
    }
   },
   "source": [
    "# O índice 8 de tupla2 contém uma outra tupla contendo 3 valores (1, 2, 3).\n",
    "# Tentar atribuir 5 ao índice 1 dessa tupla interna, provocará um erro de execução\n",
    "tupla2[8][1] = 5"
   ],
   "outputs": [
    {
     "ename": "TypeError",
     "evalue": "'tuple' object does not support item assignment",
     "output_type": "error",
     "traceback": [
      "\u001B[0;31m---------------------------------------------------------------------------\u001B[0m",
      "\u001B[0;31mTypeError\u001B[0m                                 Traceback (most recent call last)",
      "Cell \u001B[0;32mIn[11], line 3\u001B[0m\n\u001B[1;32m      1\u001B[0m \u001B[38;5;66;03m# O índice 8 de tupla2 contém uma outra tupla contendo 3 valores (1, 2, 3).\u001B[39;00m\n\u001B[1;32m      2\u001B[0m \u001B[38;5;66;03m# Tentar atribuir 5 ao índice 1 dessa tupla interna, provocará um erro de execução\u001B[39;00m\n\u001B[0;32m----> 3\u001B[0m \u001B[43mtupla2\u001B[49m\u001B[43m[\u001B[49m\u001B[38;5;241;43m8\u001B[39;49m\u001B[43m]\u001B[49m\u001B[43m[\u001B[49m\u001B[38;5;241;43m1\u001B[39;49m\u001B[43m]\u001B[49m \u001B[38;5;241m=\u001B[39m \u001B[38;5;241m5\u001B[39m\n",
      "\u001B[0;31mTypeError\u001B[0m: 'tuple' object does not support item assignment"
     ]
    }
   ],
   "execution_count": 11
  },
  {
   "cell_type": "code",
   "execution_count": null,
   "metadata": {
    "collapsed": true
   },
   "outputs": [],
   "source": [
    "# O mesmo não ocorre ao tentar atribuir 5 ao índice 1, da lista armazenada no índice 8. \n",
    "# O motivo é que a tupla não está sendo alterada. O índice 8 continua contendo uma lista. \n",
    "# Essa lista, por sua vez, é que teve um de seus valores alterados\n",
    "tupla3[8][1] = 5"
   ]
  },
  {
   "cell_type": "code",
   "metadata": {
    "collapsed": true,
    "ExecuteTime": {
     "end_time": "2024-07-08T00:17:47.868236Z",
     "start_time": "2024-07-08T00:17:47.864888Z"
    }
   },
   "source": [
    "# Podemos adicionar elementos à lista armazenada no índice 8 da tupla\n",
    "tupla3[8].extend([4, 5, 6])"
   ],
   "outputs": [],
   "execution_count": 12
  },
  {
   "cell_type": "code",
   "metadata": {
    "collapsed": true,
    "ExecuteTime": {
     "end_time": "2024-07-08T00:17:49.443279Z",
     "start_time": "2024-07-08T00:17:49.438167Z"
    }
   },
   "source": [
    "tupla3"
   ],
   "outputs": [
    {
     "data": {
      "text/plain": [
       "(3, 19, 4, 21, 3, 5, 13, 'tupla', [1, 2, 3, 4, 5, 6])"
      ]
     },
     "execution_count": 13,
     "metadata": {},
     "output_type": "execute_result"
    }
   ],
   "execution_count": 13
  },
  {
   "cell_type": "code",
   "execution_count": null,
   "metadata": {
    "collapsed": true
   },
   "outputs": [],
   "source": [
    "# Entretanto, matendo a característica de imutabilidade, não podemos substituir a lista do índice 8 por outra\n",
    "tupla3[8] = [-1, -2, -3]"
   ]
  },
  {
   "cell_type": "markdown",
   "metadata": {},
   "source": [
    "### 4. Principais métodos de um objeto tupla"
   ]
  },
  {
   "cell_type": "code",
   "metadata": {
    "collapsed": true,
    "ExecuteTime": {
     "end_time": "2024-07-08T00:18:03.001723Z",
     "start_time": "2024-07-08T00:18:02.998520Z"
    }
   },
   "source": [
    "# Verificando quantas vezes o número 3 aparece em tupla1\n",
    "tupla1.count(3)"
   ],
   "outputs": [
    {
     "data": {
      "text/plain": [
       "2"
      ]
     },
     "execution_count": 14,
     "metadata": {},
     "output_type": "execute_result"
    }
   ],
   "execution_count": 14
  },
  {
   "cell_type": "code",
   "execution_count": null,
   "metadata": {
    "collapsed": true
   },
   "outputs": [],
   "source": [
    "tupla1"
   ]
  },
  {
   "cell_type": "code",
   "metadata": {
    "collapsed": true,
    "ExecuteTime": {
     "end_time": "2024-07-08T00:18:08.839950Z",
     "start_time": "2024-07-08T00:18:08.836905Z"
    }
   },
   "source": [
    "# Verificando em que posição está armazenado o elemento 21\n",
    "tupla1.index(21)"
   ],
   "outputs": [
    {
     "data": {
      "text/plain": [
       "3"
      ]
     },
     "execution_count": 15,
     "metadata": {},
     "output_type": "execute_result"
    }
   ],
   "execution_count": 15
  },
  {
   "cell_type": "markdown",
   "metadata": {},
   "source": [
    "### 5. Funções aplicáveis a uma tupla"
   ]
  },
  {
   "cell_type": "code",
   "execution_count": null,
   "metadata": {
    "collapsed": true
   },
   "outputs": [],
   "source": [
    "len(tupla1)"
   ]
  },
  {
   "cell_type": "code",
   "metadata": {
    "collapsed": true,
    "ExecuteTime": {
     "end_time": "2024-07-08T00:18:15.197772Z",
     "start_time": "2024-07-08T00:18:15.194071Z"
    }
   },
   "source": [
    "max(tupla1)"
   ],
   "outputs": [
    {
     "data": {
      "text/plain": [
       "21"
      ]
     },
     "execution_count": 16,
     "metadata": {},
     "output_type": "execute_result"
    }
   ],
   "execution_count": 16
  },
  {
   "cell_type": "code",
   "metadata": {
    "collapsed": true,
    "ExecuteTime": {
     "end_time": "2024-07-08T00:18:17.703222Z",
     "start_time": "2024-07-08T00:18:17.698747Z"
    }
   },
   "source": [
    "min(tupla1)"
   ],
   "outputs": [
    {
     "data": {
      "text/plain": [
       "3"
      ]
     },
     "execution_count": 17,
     "metadata": {},
     "output_type": "execute_result"
    }
   ],
   "execution_count": 17
  },
  {
   "cell_type": "code",
   "execution_count": null,
   "metadata": {
    "collapsed": true
   },
   "outputs": [],
   "source": [
    "sum(tupla1)"
   ]
  },
  {
   "cell_type": "markdown",
   "metadata": {},
   "source": [
    "### 6. Convertendo uma tupla em lista"
   ]
  },
  {
   "cell_type": "code",
   "metadata": {
    "collapsed": true,
    "ExecuteTime": {
     "end_time": "2024-07-08T00:18:27.574642Z",
     "start_time": "2024-07-08T00:18:27.572102Z"
    }
   },
   "source": [
    "lista = list(tupla1)"
   ],
   "outputs": [],
   "execution_count": 18
  },
  {
   "cell_type": "code",
   "metadata": {
    "collapsed": true,
    "ExecuteTime": {
     "end_time": "2024-07-08T00:18:28.775603Z",
     "start_time": "2024-07-08T00:18:28.771957Z"
    }
   },
   "source": [
    "lista"
   ],
   "outputs": [
    {
     "data": {
      "text/plain": [
       "[3, 19, 4, 21, 3, 5, 13]"
      ]
     },
     "execution_count": 19,
     "metadata": {},
     "output_type": "execute_result"
    }
   ],
   "execution_count": 19
  },
  {
   "cell_type": "code",
   "execution_count": null,
   "metadata": {
    "collapsed": true
   },
   "outputs": [],
   "source": [
    "tupla1[6] = -1 # A imutabilidade da tupla não permite a alteração de um valor"
   ]
  },
  {
   "cell_type": "code",
   "execution_count": null,
   "metadata": {
    "collapsed": true
   },
   "outputs": [],
   "source": [
    "lista[6] = -1 # A lista resultante da conversão da lista permite a alteração"
   ]
  },
  {
   "cell_type": "code",
   "execution_count": null,
   "metadata": {
    "collapsed": true
   },
   "outputs": [],
   "source": [
    "lista"
   ]
  }
 ],
 "metadata": {
  "kernelspec": {
   "display_name": "Python 3",
   "language": "python",
   "name": "python3"
  },
  "language_info": {
   "codemirror_mode": {
    "name": "ipython",
    "version": 3
   },
   "file_extension": ".py",
   "mimetype": "text/x-python",
   "name": "python",
   "nbconvert_exporter": "python",
   "pygments_lexer": "ipython3",
   "version": "3.6.3"
  }
 },
 "nbformat": 4,
 "nbformat_minor": 2
}
