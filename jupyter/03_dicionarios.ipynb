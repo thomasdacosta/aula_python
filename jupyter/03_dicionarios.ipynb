{
 "cells": [
  {
   "cell_type": "markdown",
   "metadata": {},
   "source": [
    "# Dicionários\n",
    "\n",
    "* Um dicionário é uma coleção de elementos que possuem uma *chave* e um *valor*\n",
    "* Ao invés de um índice, usamos a *chave* para recuperar um *valor*\n",
    "\n",
    "O que veremos nessa aula:\n",
    "\n",
    "1. Como criar dicionários\n",
    "2. Acessando um valor em um dicionário através de uma chave\n",
    "3. Modificando valores em um dicionário\n",
    "4. Principais métodos de um objeto dicionário"
   ]
  },
  {
   "cell_type": "markdown",
   "metadata": {},
   "source": [
    "### 1. Como criar dicionários"
   ]
  },
  {
   "cell_type": "code",
   "metadata": {
    "collapsed": true,
    "ExecuteTime": {
     "end_time": "2024-07-08T00:33:44.233745Z",
     "start_time": "2024-07-08T00:33:44.231831Z"
    }
   },
   "source": [
    "# Criando dicionários vazios\n",
    "dic_vazio1 = {}\n",
    "dic_vazio2 = dict()"
   ],
   "outputs": [],
   "execution_count": 12
  },
  {
   "cell_type": "code",
   "metadata": {
    "ExecuteTime": {
     "end_time": "2024-07-08T00:33:44.340175Z",
     "start_time": "2024-07-08T00:33:44.337505Z"
    }
   },
   "source": [
    "# Visualizando o tipo de dic_vazio1\n",
    "type(dic_vazio1)"
   ],
   "outputs": [
    {
     "data": {
      "text/plain": [
       "dict"
      ]
     },
     "execution_count": 13,
     "metadata": {},
     "output_type": "execute_result"
    }
   ],
   "execution_count": 13
  },
  {
   "cell_type": "code",
   "metadata": {
    "ExecuteTime": {
     "end_time": "2024-07-08T00:33:44.347282Z",
     "start_time": "2024-07-08T00:33:44.344778Z"
    }
   },
   "source": [
    "# Verificando se dic_vazio2 é uma instância de dict\n",
    "isinstance(dic_vazio2, dict)"
   ],
   "outputs": [
    {
     "data": {
      "text/plain": [
       "True"
      ]
     },
     "execution_count": 14,
     "metadata": {},
     "output_type": "execute_result"
    }
   ],
   "execution_count": 14
  },
  {
   "cell_type": "code",
   "metadata": {
    "ExecuteTime": {
     "end_time": "2024-07-08T00:33:44.351733Z",
     "start_time": "2024-07-08T00:33:44.349214Z"
    }
   },
   "source": [
    "# Criando dicionários com pares chave/valor\n",
    "\n",
    "# Dicionário de estados: chave é a sigla do estado e valor é o nome completo\n",
    "dic_estados = { \"MG\":\"Minas Gerais\", \"PR\": \"Paraná\", \"BA\": \"Bahia\", \"RN\": \"Rio Grande do Norte\", \"AM\": \"Amzonas\"}\n",
    "# Obs: o nome do estado Amazonas foi digitado errado de forma intencional\n",
    "dic_estados"
   ],
   "outputs": [
    {
     "data": {
      "text/plain": [
       "{'MG': 'Minas Gerais',\n",
       " 'PR': 'Paraná',\n",
       " 'BA': 'Bahia',\n",
       " 'RN': 'Rio Grande do Norte',\n",
       " 'AM': 'Amzonas'}"
      ]
     },
     "execution_count": 15,
     "metadata": {},
     "output_type": "execute_result"
    }
   ],
   "execution_count": 15
  },
  {
   "cell_type": "markdown",
   "metadata": {},
   "source": [
    "#### OBS: Perceba que as chaves são adicionadas em ordem crescente"
   ]
  },
  {
   "cell_type": "code",
   "metadata": {
    "ExecuteTime": {
     "end_time": "2024-07-08T00:33:44.360781Z",
     "start_time": "2024-07-08T00:33:44.358097Z"
    }
   },
   "source": [
    "# Dicionário de produtos: chave é o código e valor é a descrição do produto\n",
    "dic_produtos = {1215:\"Lápis\", 3221:\"Caneta\", 2329:\"Borracha\", 1092:\"Caderno\", 7633:\"Cola\"}\n",
    "dic_produtos"
   ],
   "outputs": [
    {
     "data": {
      "text/plain": [
       "{1215: 'Lápis',\n",
       " 3221: 'Caneta',\n",
       " 2329: 'Borracha',\n",
       " 1092: 'Caderno',\n",
       " 7633: 'Cola'}"
      ]
     },
     "execution_count": 16,
     "metadata": {},
     "output_type": "execute_result"
    }
   ],
   "execution_count": 16
  },
  {
   "cell_type": "code",
   "metadata": {
    "ExecuteTime": {
     "end_time": "2024-07-08T00:33:44.372515Z",
     "start_time": "2024-07-08T00:33:44.369271Z"
    }
   },
   "source": [
    "# Dicionário de alunos: chave é o nome e valor é uma lista com 3 notas do aluno\n",
    "dic_notas_alunos = {\"João\":[30, 12, 21], \"Maria\": [20, 30, 29], \"José\": [20, 23, 19]}\n",
    "dic_notas_alunos"
   ],
   "outputs": [
    {
     "data": {
      "text/plain": [
       "{'João': [30, 12, 21], 'Maria': [20, 30, 29], 'José': [20, 23, 19]}"
      ]
     },
     "execution_count": 17,
     "metadata": {},
     "output_type": "execute_result"
    }
   ],
   "execution_count": 17
  },
  {
   "cell_type": "code",
   "metadata": {
    "ExecuteTime": {
     "end_time": "2024-07-08T00:33:44.398270Z",
     "start_time": "2024-07-08T00:33:44.394670Z"
    }
   },
   "source": [
    "# Dicionário de alunos 2: chave é o nome e valor é um outro dicionário contendo as 3 notas do aluno\n",
    "dic_notas_alunos2 = {\"João\": {\"nota1\": 30, \"nota2\": 12, \"nota3\": 21}, \n",
    "                     \"Maria\": {\"nota1\": 20, \"nota2\": 30, \"nota3\": 29}, \n",
    "                     \"José\": {\"nota1\": 20, \"nota2\": 23, \"nota3\": 19}, \n",
    "                    }\n",
    "dic_notas_alunos2"
   ],
   "outputs": [
    {
     "data": {
      "text/plain": [
       "{'João': {'nota1': 30, 'nota2': 12, 'nota3': 21},\n",
       " 'Maria': {'nota1': 20, 'nota2': 30, 'nota3': 29},\n",
       " 'José': {'nota1': 20, 'nota2': 23, 'nota3': 19}}"
      ]
     },
     "execution_count": 18,
     "metadata": {},
     "output_type": "execute_result"
    }
   ],
   "execution_count": 18
  },
  {
   "cell_type": "markdown",
   "metadata": {},
   "source": [
    "### 2. Acessando um valor em um dicionário através de uma chave"
   ]
  },
  {
   "cell_type": "code",
   "metadata": {
    "ExecuteTime": {
     "end_time": "2024-07-08T00:33:44.407425Z",
     "start_time": "2024-07-08T00:33:44.404874Z"
    }
   },
   "source": [
    "# Acessando o valor associado à chave \"PR\"\n",
    "dic_estados[\"PR\"]"
   ],
   "outputs": [
    {
     "data": {
      "text/plain": [
       "'Paraná'"
      ]
     },
     "execution_count": 19,
     "metadata": {},
     "output_type": "execute_result"
    }
   ],
   "execution_count": 19
  },
  {
   "cell_type": "code",
   "metadata": {
    "ExecuteTime": {
     "end_time": "2024-07-08T00:33:44.412646Z",
     "start_time": "2024-07-08T00:33:44.410557Z"
    }
   },
   "source": [
    "# Acessando o valor associado à chave \"MG\" dentro de um comando print\n",
    "print(\"Eu nasci em \"+dic_estados[\"MG\"]+\".\")"
   ],
   "outputs": [
    {
     "name": "stdout",
     "output_type": "stream",
     "text": [
      "Eu nasci em Minas Gerais.\n"
     ]
    }
   ],
   "execution_count": 20
  },
  {
   "cell_type": "code",
   "metadata": {
    "ExecuteTime": {
     "end_time": "2024-07-08T00:33:44.445096Z",
     "start_time": "2024-07-08T00:33:44.436617Z"
    }
   },
   "source": [
    "# Se a chave não existir, é retornado um erro\n",
    "dic_estados[\"XYZ\"]"
   ],
   "outputs": [
    {
     "ename": "KeyError",
     "evalue": "'XYZ'",
     "output_type": "error",
     "traceback": [
      "\u001B[0;31m---------------------------------------------------------------------------\u001B[0m",
      "\u001B[0;31mKeyError\u001B[0m                                  Traceback (most recent call last)",
      "Cell \u001B[0;32mIn[21], line 2\u001B[0m\n\u001B[1;32m      1\u001B[0m \u001B[38;5;66;03m# Se a chave não existir, é retornado um erro\u001B[39;00m\n\u001B[0;32m----> 2\u001B[0m \u001B[43mdic_estados\u001B[49m\u001B[43m[\u001B[49m\u001B[38;5;124;43m\"\u001B[39;49m\u001B[38;5;124;43mXYZ\u001B[39;49m\u001B[38;5;124;43m\"\u001B[39;49m\u001B[43m]\u001B[49m\n",
      "\u001B[0;31mKeyError\u001B[0m: 'XYZ'"
     ]
    }
   ],
   "execution_count": 21
  },
  {
   "cell_type": "code",
   "metadata": {
    "ExecuteTime": {
     "end_time": "2024-07-08T00:33:44.449016Z",
     "start_time": "2024-07-08T00:33:44.446429Z"
    }
   },
   "source": [
    "# Acessando o valor associado à chave 2329\n",
    "dic_produtos[2329]"
   ],
   "outputs": [
    {
     "data": {
      "text/plain": [
       "'Borracha'"
      ]
     },
     "execution_count": 22,
     "metadata": {},
     "output_type": "execute_result"
    }
   ],
   "execution_count": 22
  },
  {
   "cell_type": "code",
   "metadata": {
    "ExecuteTime": {
     "end_time": "2024-07-08T00:33:44.456466Z",
     "start_time": "2024-07-08T00:33:44.454277Z"
    }
   },
   "source": [
    "# Acessando o valor associado à chave \"Maria\" no dicionário dic_notas_aluno\n",
    "nome_aluno = \"Maria\"\n",
    "print(\"As notas de \"+nome_aluno+\" foram: \"+str(dic_notas_alunos[nome_aluno])+\".\")"
   ],
   "outputs": [
    {
     "name": "stdout",
     "output_type": "stream",
     "text": [
      "As notas de Maria foram: [20, 30, 29].\n"
     ]
    }
   ],
   "execution_count": 23
  },
  {
   "cell_type": "code",
   "metadata": {
    "ExecuteTime": {
     "end_time": "2024-07-08T00:33:44.547731Z",
     "start_time": "2024-07-08T00:33:44.545325Z"
    }
   },
   "source": [
    "print(nome_aluno+\" tirou \"+str(dic_notas_alunos[nome_aluno][0])+\" pontos na 1a prova.\")"
   ],
   "outputs": [
    {
     "name": "stdout",
     "output_type": "stream",
     "text": [
      "Maria tirou 20 pontos na 1a prova.\n"
     ]
    }
   ],
   "execution_count": 24
  },
  {
   "cell_type": "code",
   "metadata": {
    "ExecuteTime": {
     "end_time": "2024-07-08T00:33:44.567876Z",
     "start_time": "2024-07-08T00:33:44.564866Z"
    }
   },
   "source": [
    "# Acessando a nota da primeira prova do João no dicionário dic_notas_alunos2\n",
    "dic_notas_alunos2[\"João\"][\"nota1\"]"
   ],
   "outputs": [
    {
     "data": {
      "text/plain": [
       "30"
      ]
     },
     "execution_count": 25,
     "metadata": {},
     "output_type": "execute_result"
    }
   ],
   "execution_count": 25
  },
  {
   "cell_type": "markdown",
   "metadata": {},
   "source": [
    "### 3. Modificando valores em um dicionário"
   ]
  },
  {
   "cell_type": "code",
   "metadata": {
    "ExecuteTime": {
     "end_time": "2024-07-08T00:33:44.577693Z",
     "start_time": "2024-07-08T00:33:44.574437Z"
    }
   },
   "source": [
    "# Visualizando o dicionário dic_estados\n",
    "dic_estados"
   ],
   "outputs": [
    {
     "data": {
      "text/plain": [
       "{'MG': 'Minas Gerais',\n",
       " 'PR': 'Paraná',\n",
       " 'BA': 'Bahia',\n",
       " 'RN': 'Rio Grande do Norte',\n",
       " 'AM': 'Amzonas'}"
      ]
     },
     "execution_count": 26,
     "metadata": {},
     "output_type": "execute_result"
    }
   ],
   "execution_count": 26
  },
  {
   "cell_type": "code",
   "metadata": {
    "ExecuteTime": {
     "end_time": "2024-07-08T00:33:44.588986Z",
     "start_time": "2024-07-08T00:33:44.586474Z"
    }
   },
   "source": [
    "# Corrigindo o nome do estado Amazonas\n",
    "dic_estados[\"AM\"] = \"Amazonas\"\n",
    "dic_estados"
   ],
   "outputs": [
    {
     "data": {
      "text/plain": [
       "{'MG': 'Minas Gerais',\n",
       " 'PR': 'Paraná',\n",
       " 'BA': 'Bahia',\n",
       " 'RN': 'Rio Grande do Norte',\n",
       " 'AM': 'Amazonas'}"
      ]
     },
     "execution_count": 27,
     "metadata": {},
     "output_type": "execute_result"
    }
   ],
   "execution_count": 27
  },
  {
   "cell_type": "code",
   "metadata": {
    "ExecuteTime": {
     "end_time": "2024-07-08T00:33:44.610356Z",
     "start_time": "2024-07-08T00:33:44.607678Z"
    }
   },
   "source": [
    "# Visualizando o dicionário dic_notas_alunos\n",
    "dic_notas_alunos"
   ],
   "outputs": [
    {
     "data": {
      "text/plain": [
       "{'João': [30, 12, 21], 'Maria': [20, 30, 29], 'José': [20, 23, 19]}"
      ]
     },
     "execution_count": 28,
     "metadata": {},
     "output_type": "execute_result"
    }
   ],
   "execution_count": 28
  },
  {
   "cell_type": "code",
   "metadata": {
    "ExecuteTime": {
     "end_time": "2024-07-08T00:33:44.619781Z",
     "start_time": "2024-07-08T00:33:44.616927Z"
    }
   },
   "source": [
    "# Alterando a segunda nota de João para 22\n",
    "dic_notas_alunos[\"João\"][1] = 22\n",
    "dic_notas_alunos"
   ],
   "outputs": [
    {
     "data": {
      "text/plain": [
       "{'João': [30, 22, 21], 'Maria': [20, 30, 29], 'José': [20, 23, 19]}"
      ]
     },
     "execution_count": 29,
     "metadata": {},
     "output_type": "execute_result"
    }
   ],
   "execution_count": 29
  },
  {
   "cell_type": "code",
   "metadata": {
    "ExecuteTime": {
     "end_time": "2024-07-08T00:33:44.629506Z",
     "start_time": "2024-07-08T00:33:44.626985Z"
    }
   },
   "source": [
    "# Alterando todas as notas de Maria. \n",
    "# Essa alteração não será feita nota a nota, mas atribuindo uma nova lista com as notas corretas\n",
    "dic_notas_alunos[\"Maria\"] = [25, 20, 22]\n",
    "dic_notas_alunos"
   ],
   "outputs": [
    {
     "data": {
      "text/plain": [
       "{'João': [30, 22, 21], 'Maria': [25, 20, 22], 'José': [20, 23, 19]}"
      ]
     },
     "execution_count": 30,
     "metadata": {},
     "output_type": "execute_result"
    }
   ],
   "execution_count": 30
  },
  {
   "cell_type": "code",
   "metadata": {
    "ExecuteTime": {
     "end_time": "2024-07-08T00:33:44.644260Z",
     "start_time": "2024-07-08T00:33:44.641505Z"
    }
   },
   "source": [
    "# Visualizando o dicionário dic_notas_alunos2\n",
    "dic_notas_alunos2"
   ],
   "outputs": [
    {
     "data": {
      "text/plain": [
       "{'João': {'nota1': 30, 'nota2': 12, 'nota3': 21},\n",
       " 'Maria': {'nota1': 20, 'nota2': 30, 'nota3': 29},\n",
       " 'José': {'nota1': 20, 'nota2': 23, 'nota3': 19}}"
      ]
     },
     "execution_count": 31,
     "metadata": {},
     "output_type": "execute_result"
    }
   ],
   "execution_count": 31
  },
  {
   "cell_type": "code",
   "metadata": {
    "ExecuteTime": {
     "end_time": "2024-07-08T00:33:44.692618Z",
     "start_time": "2024-07-08T00:33:44.689063Z"
    }
   },
   "source": [
    "# Alterando a terceira nota do José para 25\n",
    "dic_notas_alunos2[\"José\"][\"nota3\"] = 25\n",
    "dic_notas_alunos2"
   ],
   "outputs": [
    {
     "data": {
      "text/plain": [
       "{'João': {'nota1': 30, 'nota2': 12, 'nota3': 21},\n",
       " 'Maria': {'nota1': 20, 'nota2': 30, 'nota3': 29},\n",
       " 'José': {'nota1': 20, 'nota2': 23, 'nota3': 25}}"
      ]
     },
     "execution_count": 32,
     "metadata": {},
     "output_type": "execute_result"
    }
   ],
   "execution_count": 32
  },
  {
   "cell_type": "markdown",
   "metadata": {},
   "source": [
    "### 4. Principais métodos de um objeto dicionário\n",
    "\n",
    "Método | Descrição | Exemplo\n",
    ":----- | :-------- | :------\n",
    "clear  | Apaga todos os elementos de um dicionário | `dic.clear()`\n",
    "copy | Retorna uma cópia dos elementos de um dicionário | `dic_copia = dic.copy()`\n",
    "fromkeys | Retorna um dicionário a partir de uma sequência de chaves | `exemplo = dic.fromkeys({\"k1\", \"k4\", \"k5\"})`\n",
    "get | Retorna o valor associado a uma chave | `dic.get(\"k1\")`\n",
    " |  | `dic.get(\"k1\", 0)`\n",
    "items | Retorna uma visão dos pares chave/valor de um dicionário | `dic.items()`\n",
    "keys | Retorna uma visão das chaves de um dicionário | `dic.keys()`\n",
    "pop | Remove e retorna o elemento associado à chave passada por parâmetro (provoca erro se a chave não existir) | `dic.pop(2)`\n",
    "popitem | Remove e retorna o último elemento adicionado ao dicionário | `dic.popitem()`\n",
    "setdefault | Retorna o valor associado a uma chave (se a chave existir). Caso não exista, insere a chave com o valor (opcional) no dicionário | `dic.setdefault(2, \"dois\")`\n",
    "update | Adiciona ao dicionário os pares de chave/valor de outro dicionário passado por parâmetro | `dic.update(dic2)`\n",
    "values | Retorna uma visão dos valores de um dicionário | `dic.values`"
   ]
  },
  {
   "cell_type": "code",
   "metadata": {
    "ExecuteTime": {
     "end_time": "2024-07-08T00:33:44.710895Z",
     "start_time": "2024-07-08T00:33:44.706628Z"
    }
   },
   "source": [
    "# Criando um dicionário exemplo\n",
    "dic_exemplo = {1:\"um\", 2:\"dois\", 3:\"três\", 4:\"quatro\"}\n",
    "dic_exemplo"
   ],
   "outputs": [
    {
     "data": {
      "text/plain": [
       "{1: 'um', 2: 'dois', 3: 'três', 4: 'quatro'}"
      ]
     },
     "execution_count": 33,
     "metadata": {},
     "output_type": "execute_result"
    }
   ],
   "execution_count": 33
  },
  {
   "cell_type": "markdown",
   "metadata": {},
   "source": [
    "#### 4.1 - clear()"
   ]
  },
  {
   "cell_type": "code",
   "metadata": {
    "ExecuteTime": {
     "end_time": "2024-07-08T00:33:44.721529Z",
     "start_time": "2024-07-08T00:33:44.718713Z"
    }
   },
   "source": [
    "# Removendo os elementos de dic_exemplo\n",
    "dic_exemplo.clear()\n",
    "dic_exemplo"
   ],
   "outputs": [
    {
     "data": {
      "text/plain": [
       "{}"
      ]
     },
     "execution_count": 34,
     "metadata": {},
     "output_type": "execute_result"
    }
   ],
   "execution_count": 34
  },
  {
   "cell_type": "markdown",
   "metadata": {},
   "source": [
    "#### 4.2 - copy()"
   ]
  },
  {
   "cell_type": "code",
   "metadata": {
    "ExecuteTime": {
     "end_time": "2024-07-08T00:33:44.739891Z",
     "start_time": "2024-07-08T00:33:44.736940Z"
    }
   },
   "source": [
    "# Redefinido dic_exemplo\n",
    "dic_exemplo = {1:\"um\", 2:\"dois\", 3:\"três\", 4:\"quatro\"}\n",
    "dic_exemplo"
   ],
   "outputs": [
    {
     "data": {
      "text/plain": [
       "{1: 'um', 2: 'dois', 3: 'três', 4: 'quatro'}"
      ]
     },
     "execution_count": 35,
     "metadata": {},
     "output_type": "execute_result"
    }
   ],
   "execution_count": 35
  },
  {
   "cell_type": "code",
   "metadata": {
    "ExecuteTime": {
     "end_time": "2024-07-08T00:33:44.750728Z",
     "start_time": "2024-07-08T00:33:44.748148Z"
    }
   },
   "source": [
    "# Criando uma cópia de dic_exemplo usando o método copy()\n",
    "dic_exemplo2 = dic_exemplo.copy()\n",
    "dic_exemplo2"
   ],
   "outputs": [
    {
     "data": {
      "text/plain": [
       "{1: 'um', 2: 'dois', 3: 'três', 4: 'quatro'}"
      ]
     },
     "execution_count": 36,
     "metadata": {},
     "output_type": "execute_result"
    }
   ],
   "execution_count": 36
  },
  {
   "cell_type": "markdown",
   "metadata": {},
   "source": [
    "Obs: Isso já foi discutido na aula sobre listas. Se simplesmente atribuirmos dic_exemplo a dic_exemplo2 (**`dic_exemplo2 = dic_exemplo`**), não estaremos copiando seus elementos, mas criando uma referência (ou um apelido)."
   ]
  },
  {
   "cell_type": "markdown",
   "metadata": {},
   "source": [
    "#### 4.3 - fromkeys()"
   ]
  },
  {
   "cell_type": "code",
   "metadata": {
    "ExecuteTime": {
     "end_time": "2024-07-08T00:33:44.759732Z",
     "start_time": "2024-07-08T00:33:44.756665Z"
    }
   },
   "source": [
    "# Criando um novo dicionário a partir da seleção das chaves que desejamos\n",
    "dic_num_pares = dict.fromkeys([2, 4, 6, 8, 10])\n",
    "dic_num_pares"
   ],
   "outputs": [
    {
     "data": {
      "text/plain": [
       "{2: None, 4: None, 6: None, 8: None, 10: None}"
      ]
     },
     "execution_count": 37,
     "metadata": {},
     "output_type": "execute_result"
    }
   ],
   "execution_count": 37
  },
  {
   "cell_type": "code",
   "metadata": {
    "ExecuteTime": {
     "end_time": "2024-07-08T00:33:44.770676Z",
     "start_time": "2024-07-08T00:33:44.767886Z"
    }
   },
   "source": [
    "# Se desejarmos atribuir um valor default, basta informar após a lista com as chaves\n",
    "dic_num_pares = dict.fromkeys([2, 4, 6, 8, 10], \"par\")\n",
    "dic_num_pares"
   ],
   "outputs": [
    {
     "data": {
      "text/plain": [
       "{2: 'par', 4: 'par', 6: 'par', 8: 'par', 10: 'par'}"
      ]
     },
     "execution_count": 38,
     "metadata": {},
     "output_type": "execute_result"
    }
   ],
   "execution_count": 38
  },
  {
   "cell_type": "markdown",
   "metadata": {},
   "source": [
    "#### 4.4 - get()"
   ]
  },
  {
   "cell_type": "code",
   "metadata": {
    "ExecuteTime": {
     "end_time": "2024-07-08T00:33:44.796010Z",
     "start_time": "2024-07-08T00:33:44.791052Z"
    }
   },
   "source": [
    "# O método get retorna o valor associado a uma chave\n",
    "# Visualizando o valor associado à chave 2\n",
    "dic_exemplo.get(2)"
   ],
   "outputs": [
    {
     "data": {
      "text/plain": [
       "'dois'"
      ]
     },
     "execution_count": 39,
     "metadata": {},
     "output_type": "execute_result"
    }
   ],
   "execution_count": 39
  },
  {
   "cell_type": "markdown",
   "metadata": {},
   "source": [
    "#### 4.5 - items()"
   ]
  },
  {
   "cell_type": "code",
   "metadata": {
    "ExecuteTime": {
     "end_time": "2024-07-08T00:33:44.808753Z",
     "start_time": "2024-07-08T00:33:44.806144Z"
    }
   },
   "source": [
    "# Visualizando os pares chave/valor do dicionário \n",
    "dic_exemplo.items()"
   ],
   "outputs": [
    {
     "data": {
      "text/plain": [
       "dict_items([(1, 'um'), (2, 'dois'), (3, 'três'), (4, 'quatro')])"
      ]
     },
     "execution_count": 40,
     "metadata": {},
     "output_type": "execute_result"
    }
   ],
   "execution_count": 40
  },
  {
   "cell_type": "markdown",
   "metadata": {},
   "source": [
    "#### 4.6 - keys()"
   ]
  },
  {
   "cell_type": "code",
   "metadata": {
    "ExecuteTime": {
     "end_time": "2024-07-08T00:33:44.817715Z",
     "start_time": "2024-07-08T00:33:44.814031Z"
    }
   },
   "source": [
    "# Visualizando as chaves de um dicionário\n",
    "dic_exemplo.keys()"
   ],
   "outputs": [
    {
     "data": {
      "text/plain": [
       "dict_keys([1, 2, 3, 4])"
      ]
     },
     "execution_count": 41,
     "metadata": {},
     "output_type": "execute_result"
    }
   ],
   "execution_count": 41
  },
  {
   "cell_type": "markdown",
   "metadata": {},
   "source": [
    "#### 4.7 - pop()"
   ]
  },
  {
   "cell_type": "code",
   "metadata": {
    "ExecuteTime": {
     "end_time": "2024-07-08T00:33:44.847045Z",
     "start_time": "2024-07-08T00:33:44.844387Z"
    }
   },
   "source": [
    "# Removendo o par chave/valor associado à chave 1\n",
    "dic_exemplo.pop(1)\n",
    "dic_exemplo"
   ],
   "outputs": [
    {
     "data": {
      "text/plain": [
       "{2: 'dois', 3: 'três', 4: 'quatro'}"
      ]
     },
     "execution_count": 42,
     "metadata": {},
     "output_type": "execute_result"
    }
   ],
   "execution_count": 42
  },
  {
   "cell_type": "code",
   "metadata": {
    "ExecuteTime": {
     "end_time": "2024-07-08T00:33:44.856519Z",
     "start_time": "2024-07-08T00:33:44.853843Z"
    }
   },
   "source": [
    "# Podemos remover e armazenar o valor removido em uma variável\n",
    "valor = dic_exemplo.pop(4)\n",
    "dic_exemplo"
   ],
   "outputs": [
    {
     "data": {
      "text/plain": [
       "{2: 'dois', 3: 'três'}"
      ]
     },
     "execution_count": 43,
     "metadata": {},
     "output_type": "execute_result"
    }
   ],
   "execution_count": 43
  },
  {
   "cell_type": "code",
   "metadata": {
    "ExecuteTime": {
     "end_time": "2024-07-08T00:33:44.876474Z",
     "start_time": "2024-07-08T00:33:44.873881Z"
    }
   },
   "source": [
    "# Visualizando o conteúdo armazenado na variável valor\n",
    "valor"
   ],
   "outputs": [
    {
     "data": {
      "text/plain": [
       "'quatro'"
      ]
     },
     "execution_count": 44,
     "metadata": {},
     "output_type": "execute_result"
    }
   ],
   "execution_count": 44
  },
  {
   "cell_type": "markdown",
   "metadata": {},
   "source": [
    "#### 4.8 - popitem()"
   ]
  },
  {
   "cell_type": "code",
   "metadata": {
    "collapsed": true,
    "ExecuteTime": {
     "end_time": "2024-07-08T00:33:44.885262Z",
     "start_time": "2024-07-08T00:33:44.883510Z"
    }
   },
   "source": [
    "# Removendo o último par chave/valor adicionado ao dicionário\n",
    "removido = dic_num_pares.popitem()"
   ],
   "outputs": [],
   "execution_count": 45
  },
  {
   "cell_type": "code",
   "metadata": {
    "ExecuteTime": {
     "end_time": "2024-07-08T00:33:44.894185Z",
     "start_time": "2024-07-08T00:33:44.892042Z"
    }
   },
   "source": [
    "# Visualizando o valor removido\n",
    "removido"
   ],
   "outputs": [
    {
     "data": {
      "text/plain": [
       "(10, 'par')"
      ]
     },
     "execution_count": 46,
     "metadata": {},
     "output_type": "execute_result"
    }
   ],
   "execution_count": 46
  },
  {
   "cell_type": "code",
   "metadata": {
    "ExecuteTime": {
     "end_time": "2024-07-08T00:33:44.903484Z",
     "start_time": "2024-07-08T00:33:44.900655Z"
    }
   },
   "source": [
    "# Visualizando o dicionário após a remoção do último par chave/valor\n",
    "dic_num_pares"
   ],
   "outputs": [
    {
     "data": {
      "text/plain": [
       "{2: 'par', 4: 'par', 6: 'par', 8: 'par'}"
      ]
     },
     "execution_count": 47,
     "metadata": {},
     "output_type": "execute_result"
    }
   ],
   "execution_count": 47
  },
  {
   "cell_type": "markdown",
   "metadata": {},
   "source": [
    "#### 4.9 - setdefault()"
   ]
  },
  {
   "cell_type": "code",
   "metadata": {
    "ExecuteTime": {
     "end_time": "2024-07-08T00:33:44.926664Z",
     "start_time": "2024-07-08T00:33:44.924177Z"
    }
   },
   "source": [
    "# Verificando o valor associado à chave \"MG\"\n",
    "dic_estados.setdefault(\"MG\")"
   ],
   "outputs": [
    {
     "data": {
      "text/plain": [
       "'Minas Gerais'"
      ]
     },
     "execution_count": 48,
     "metadata": {},
     "output_type": "execute_result"
    }
   ],
   "execution_count": 48
  },
  {
   "cell_type": "code",
   "metadata": {
    "collapsed": true,
    "ExecuteTime": {
     "end_time": "2024-07-08T00:33:44.935645Z",
     "start_time": "2024-07-08T00:33:44.933584Z"
    }
   },
   "source": [
    "# Verificando o valor associado à chave \"ES\". \n",
    "# Como essa chave não existe, ela é adicionada pelo método setdefault ao dicionário com o valor None\n",
    "dic_estados.setdefault(\"ES\")"
   ],
   "outputs": [],
   "execution_count": 49
  },
  {
   "cell_type": "code",
   "metadata": {
    "ExecuteTime": {
     "end_time": "2024-07-08T00:33:44.943769Z",
     "start_time": "2024-07-08T00:33:44.940995Z"
    }
   },
   "source": [
    "# Visualizando o conteúdo de dic_estados\n",
    "dic_estados"
   ],
   "outputs": [
    {
     "data": {
      "text/plain": [
       "{'MG': 'Minas Gerais',\n",
       " 'PR': 'Paraná',\n",
       " 'BA': 'Bahia',\n",
       " 'RN': 'Rio Grande do Norte',\n",
       " 'AM': 'Amazonas',\n",
       " 'ES': None}"
      ]
     },
     "execution_count": 50,
     "metadata": {},
     "output_type": "execute_result"
    }
   ],
   "execution_count": 50
  },
  {
   "cell_type": "code",
   "metadata": {
    "ExecuteTime": {
     "end_time": "2024-07-08T00:33:44.960096Z",
     "start_time": "2024-07-08T00:33:44.956955Z"
    }
   },
   "source": [
    "# Verificando o valor associado à chave \"ES\". \n",
    "# Como essa chave não existe, ela é adicionada pelo método setdefault ao dicionário. \n",
    "# Nesse caso foi passado que o valor \"Santa Catarina\"\n",
    "dic_estados.setdefault(\"SC\", \"Santa Catarina\")"
   ],
   "outputs": [
    {
     "data": {
      "text/plain": [
       "'Santa Catarina'"
      ]
     },
     "execution_count": 51,
     "metadata": {},
     "output_type": "execute_result"
    }
   ],
   "execution_count": 51
  },
  {
   "cell_type": "code",
   "metadata": {
    "ExecuteTime": {
     "end_time": "2024-07-08T00:33:44.969214Z",
     "start_time": "2024-07-08T00:33:44.966711Z"
    }
   },
   "source": [
    "# Visualizando o conteúdo de dic_estados\n",
    "dic_estados"
   ],
   "outputs": [
    {
     "data": {
      "text/plain": [
       "{'MG': 'Minas Gerais',\n",
       " 'PR': 'Paraná',\n",
       " 'BA': 'Bahia',\n",
       " 'RN': 'Rio Grande do Norte',\n",
       " 'AM': 'Amazonas',\n",
       " 'ES': None,\n",
       " 'SC': 'Santa Catarina'}"
      ]
     },
     "execution_count": 52,
     "metadata": {},
     "output_type": "execute_result"
    }
   ],
   "execution_count": 52
  },
  {
   "cell_type": "markdown",
   "metadata": {},
   "source": [
    "#### 4.10 - update()"
   ]
  },
  {
   "cell_type": "code",
   "metadata": {
    "ExecuteTime": {
     "end_time": "2024-07-08T00:33:44.982219Z",
     "start_time": "2024-07-08T00:33:44.979531Z"
    }
   },
   "source": [
    "# Definindo o dicionário dic_estados_centro_oeste com alguns dos estados da região Centro Oeste\n",
    "dic_estados_centro_oeste = {\"MS\": \"Mato Grosso do Sul\", \"TO\": \"Tocantins\", \"GO\": \"Goiás\"}\n",
    "dic_estados_centro_oeste"
   ],
   "outputs": [
    {
     "data": {
      "text/plain": [
       "{'MS': 'Mato Grosso do Sul', 'TO': 'Tocantins', 'GO': 'Goiás'}"
      ]
     },
     "execution_count": 53,
     "metadata": {},
     "output_type": "execute_result"
    }
   ],
   "execution_count": 53
  },
  {
   "cell_type": "code",
   "metadata": {
    "ExecuteTime": {
     "end_time": "2024-07-08T00:33:45.005806Z",
     "start_time": "2024-07-08T00:33:45.003015Z"
    }
   },
   "source": [
    "# Adicionando os estados do Centro Oeste ao dicionário dic_estados\n",
    "dic_estados.update(dic_estados_centro_oeste)\n",
    "dic_estados"
   ],
   "outputs": [
    {
     "data": {
      "text/plain": [
       "{'MG': 'Minas Gerais',\n",
       " 'PR': 'Paraná',\n",
       " 'BA': 'Bahia',\n",
       " 'RN': 'Rio Grande do Norte',\n",
       " 'AM': 'Amazonas',\n",
       " 'ES': None,\n",
       " 'SC': 'Santa Catarina',\n",
       " 'MS': 'Mato Grosso do Sul',\n",
       " 'TO': 'Tocantins',\n",
       " 'GO': 'Goiás'}"
      ]
     },
     "execution_count": 54,
     "metadata": {},
     "output_type": "execute_result"
    }
   ],
   "execution_count": 54
  },
  {
   "cell_type": "markdown",
   "metadata": {},
   "source": [
    "#### 4.11 - values()"
   ]
  },
  {
   "cell_type": "code",
   "metadata": {
    "ExecuteTime": {
     "end_time": "2024-07-08T00:33:45.014486Z",
     "start_time": "2024-07-08T00:33:45.011667Z"
    }
   },
   "source": [
    "# Visualizando os valores de um dicionário\n",
    "dic_estados.values()"
   ],
   "outputs": [
    {
     "data": {
      "text/plain": [
       "dict_values(['Minas Gerais', 'Paraná', 'Bahia', 'Rio Grande do Norte', 'Amazonas', None, 'Santa Catarina', 'Mato Grosso do Sul', 'Tocantins', 'Goiás'])"
      ]
     },
     "execution_count": 55,
     "metadata": {},
     "output_type": "execute_result"
    }
   ],
   "execution_count": 55
  },
  {
   "cell_type": "markdown",
   "metadata": {},
   "source": [
    "#### Como remover o estado de Tocantins do dicionário Centro Oeste?"
   ]
  },
  {
   "cell_type": "code",
   "metadata": {
    "ExecuteTime": {
     "end_time": "2024-07-08T00:33:45.024249Z",
     "start_time": "2024-07-08T00:33:45.021210Z"
    }
   },
   "source": [
    "# Numa primeira versão desse Notebook, o exemplo do pop() seria a remoção do estado de Tocantins, \n",
    "# que não faz parte da região Centro-Oeste, mas da região Norte. Para removermos Tocantins do dicionário,\n",
    "# usamos então o método pop(), passando por parâmetro a sigla do estado \"TO\"\n",
    "dic_estados_centro_oeste.pop(\"TO\")"
   ],
   "outputs": [
    {
     "data": {
      "text/plain": [
       "'Tocantins'"
      ]
     },
     "execution_count": 56,
     "metadata": {},
     "output_type": "execute_result"
    }
   ],
   "execution_count": 56
  }
 ],
 "metadata": {
  "kernelspec": {
   "display_name": "Python 3",
   "language": "python",
   "name": "python3"
  },
  "language_info": {
   "codemirror_mode": {
    "name": "ipython",
    "version": 3
   },
   "file_extension": ".py",
   "mimetype": "text/x-python",
   "name": "python",
   "nbconvert_exporter": "python",
   "pygments_lexer": "ipython3",
   "version": "3.6.3"
  }
 },
 "nbformat": 4,
 "nbformat_minor": 2
}
